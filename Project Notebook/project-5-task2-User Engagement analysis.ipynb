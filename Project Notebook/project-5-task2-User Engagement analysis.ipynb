{
 "cells": [
  {
   "cell_type": "code",
   "execution_count": 2,
   "id": "0721921f",
   "metadata": {},
   "outputs": [],
   "source": [
    "import numpy as np\n",
    "import pandas as pd\n",
    "import seaborn as sns\n",
    "%matplotlib inline\n",
    "import matplotlib.pyplot as plt\n",
    "from sklearn.cluster import KMeans\n",
    "from  scipy.stats import zscore\n",
    "from sklearn.preprocessing import MinMaxScaler\n",
    "from mpl_toolkits.mplot3d import Axes3D"
   ]
  },
  {
   "cell_type": "code",
   "execution_count": 3,
   "id": "1871bed5",
   "metadata": {},
   "outputs": [
    {
     "ename": "FileNotFoundError",
     "evalue": "[Errno 2] No such file or directory: 'clean.csv'",
     "output_type": "error",
     "traceback": [
      "\u001b[1;31m---------------------------------------------------------------------------\u001b[0m",
      "\u001b[1;31mFileNotFoundError\u001b[0m                         Traceback (most recent call last)",
      "Cell \u001b[1;32mIn[3], line 1\u001b[0m\n\u001b[1;32m----> 1\u001b[0m df \u001b[38;5;241m=\u001b[39m \u001b[43mpd\u001b[49m\u001b[38;5;241;43m.\u001b[39;49m\u001b[43mread_csv\u001b[49m\u001b[43m(\u001b[49m\u001b[38;5;124;43m'\u001b[39;49m\u001b[38;5;124;43mclean.csv\u001b[39;49m\u001b[38;5;124;43m'\u001b[39;49m\u001b[43m)\u001b[49m\n",
      "File \u001b[1;32m~\\AppData\\Roaming\\Python\\Python312\\site-packages\\pandas\\io\\parsers\\readers.py:1024\u001b[0m, in \u001b[0;36mread_csv\u001b[1;34m(filepath_or_buffer, sep, delimiter, header, names, index_col, usecols, dtype, engine, converters, true_values, false_values, skipinitialspace, skiprows, skipfooter, nrows, na_values, keep_default_na, na_filter, verbose, skip_blank_lines, parse_dates, infer_datetime_format, keep_date_col, date_parser, date_format, dayfirst, cache_dates, iterator, chunksize, compression, thousands, decimal, lineterminator, quotechar, quoting, doublequote, escapechar, comment, encoding, encoding_errors, dialect, on_bad_lines, delim_whitespace, low_memory, memory_map, float_precision, storage_options, dtype_backend)\u001b[0m\n\u001b[0;32m   1011\u001b[0m kwds_defaults \u001b[38;5;241m=\u001b[39m _refine_defaults_read(\n\u001b[0;32m   1012\u001b[0m     dialect,\n\u001b[0;32m   1013\u001b[0m     delimiter,\n\u001b[1;32m   (...)\u001b[0m\n\u001b[0;32m   1020\u001b[0m     dtype_backend\u001b[38;5;241m=\u001b[39mdtype_backend,\n\u001b[0;32m   1021\u001b[0m )\n\u001b[0;32m   1022\u001b[0m kwds\u001b[38;5;241m.\u001b[39mupdate(kwds_defaults)\n\u001b[1;32m-> 1024\u001b[0m \u001b[38;5;28;01mreturn\u001b[39;00m \u001b[43m_read\u001b[49m\u001b[43m(\u001b[49m\u001b[43mfilepath_or_buffer\u001b[49m\u001b[43m,\u001b[49m\u001b[43m \u001b[49m\u001b[43mkwds\u001b[49m\u001b[43m)\u001b[49m\n",
      "File \u001b[1;32m~\\AppData\\Roaming\\Python\\Python312\\site-packages\\pandas\\io\\parsers\\readers.py:618\u001b[0m, in \u001b[0;36m_read\u001b[1;34m(filepath_or_buffer, kwds)\u001b[0m\n\u001b[0;32m    615\u001b[0m _validate_names(kwds\u001b[38;5;241m.\u001b[39mget(\u001b[38;5;124m\"\u001b[39m\u001b[38;5;124mnames\u001b[39m\u001b[38;5;124m\"\u001b[39m, \u001b[38;5;28;01mNone\u001b[39;00m))\n\u001b[0;32m    617\u001b[0m \u001b[38;5;66;03m# Create the parser.\u001b[39;00m\n\u001b[1;32m--> 618\u001b[0m parser \u001b[38;5;241m=\u001b[39m \u001b[43mTextFileReader\u001b[49m\u001b[43m(\u001b[49m\u001b[43mfilepath_or_buffer\u001b[49m\u001b[43m,\u001b[49m\u001b[43m \u001b[49m\u001b[38;5;241;43m*\u001b[39;49m\u001b[38;5;241;43m*\u001b[39;49m\u001b[43mkwds\u001b[49m\u001b[43m)\u001b[49m\n\u001b[0;32m    620\u001b[0m \u001b[38;5;28;01mif\u001b[39;00m chunksize \u001b[38;5;129;01mor\u001b[39;00m iterator:\n\u001b[0;32m    621\u001b[0m     \u001b[38;5;28;01mreturn\u001b[39;00m parser\n",
      "File \u001b[1;32m~\\AppData\\Roaming\\Python\\Python312\\site-packages\\pandas\\io\\parsers\\readers.py:1618\u001b[0m, in \u001b[0;36mTextFileReader.__init__\u001b[1;34m(self, f, engine, **kwds)\u001b[0m\n\u001b[0;32m   1615\u001b[0m     \u001b[38;5;28mself\u001b[39m\u001b[38;5;241m.\u001b[39moptions[\u001b[38;5;124m\"\u001b[39m\u001b[38;5;124mhas_index_names\u001b[39m\u001b[38;5;124m\"\u001b[39m] \u001b[38;5;241m=\u001b[39m kwds[\u001b[38;5;124m\"\u001b[39m\u001b[38;5;124mhas_index_names\u001b[39m\u001b[38;5;124m\"\u001b[39m]\n\u001b[0;32m   1617\u001b[0m \u001b[38;5;28mself\u001b[39m\u001b[38;5;241m.\u001b[39mhandles: IOHandles \u001b[38;5;241m|\u001b[39m \u001b[38;5;28;01mNone\u001b[39;00m \u001b[38;5;241m=\u001b[39m \u001b[38;5;28;01mNone\u001b[39;00m\n\u001b[1;32m-> 1618\u001b[0m \u001b[38;5;28mself\u001b[39m\u001b[38;5;241m.\u001b[39m_engine \u001b[38;5;241m=\u001b[39m \u001b[38;5;28;43mself\u001b[39;49m\u001b[38;5;241;43m.\u001b[39;49m\u001b[43m_make_engine\u001b[49m\u001b[43m(\u001b[49m\u001b[43mf\u001b[49m\u001b[43m,\u001b[49m\u001b[43m \u001b[49m\u001b[38;5;28;43mself\u001b[39;49m\u001b[38;5;241;43m.\u001b[39;49m\u001b[43mengine\u001b[49m\u001b[43m)\u001b[49m\n",
      "File \u001b[1;32m~\\AppData\\Roaming\\Python\\Python312\\site-packages\\pandas\\io\\parsers\\readers.py:1878\u001b[0m, in \u001b[0;36mTextFileReader._make_engine\u001b[1;34m(self, f, engine)\u001b[0m\n\u001b[0;32m   1876\u001b[0m     \u001b[38;5;28;01mif\u001b[39;00m \u001b[38;5;124m\"\u001b[39m\u001b[38;5;124mb\u001b[39m\u001b[38;5;124m\"\u001b[39m \u001b[38;5;129;01mnot\u001b[39;00m \u001b[38;5;129;01min\u001b[39;00m mode:\n\u001b[0;32m   1877\u001b[0m         mode \u001b[38;5;241m+\u001b[39m\u001b[38;5;241m=\u001b[39m \u001b[38;5;124m\"\u001b[39m\u001b[38;5;124mb\u001b[39m\u001b[38;5;124m\"\u001b[39m\n\u001b[1;32m-> 1878\u001b[0m \u001b[38;5;28mself\u001b[39m\u001b[38;5;241m.\u001b[39mhandles \u001b[38;5;241m=\u001b[39m \u001b[43mget_handle\u001b[49m\u001b[43m(\u001b[49m\n\u001b[0;32m   1879\u001b[0m \u001b[43m    \u001b[49m\u001b[43mf\u001b[49m\u001b[43m,\u001b[49m\n\u001b[0;32m   1880\u001b[0m \u001b[43m    \u001b[49m\u001b[43mmode\u001b[49m\u001b[43m,\u001b[49m\n\u001b[0;32m   1881\u001b[0m \u001b[43m    \u001b[49m\u001b[43mencoding\u001b[49m\u001b[38;5;241;43m=\u001b[39;49m\u001b[38;5;28;43mself\u001b[39;49m\u001b[38;5;241;43m.\u001b[39;49m\u001b[43moptions\u001b[49m\u001b[38;5;241;43m.\u001b[39;49m\u001b[43mget\u001b[49m\u001b[43m(\u001b[49m\u001b[38;5;124;43m\"\u001b[39;49m\u001b[38;5;124;43mencoding\u001b[39;49m\u001b[38;5;124;43m\"\u001b[39;49m\u001b[43m,\u001b[49m\u001b[43m \u001b[49m\u001b[38;5;28;43;01mNone\u001b[39;49;00m\u001b[43m)\u001b[49m\u001b[43m,\u001b[49m\n\u001b[0;32m   1882\u001b[0m \u001b[43m    \u001b[49m\u001b[43mcompression\u001b[49m\u001b[38;5;241;43m=\u001b[39;49m\u001b[38;5;28;43mself\u001b[39;49m\u001b[38;5;241;43m.\u001b[39;49m\u001b[43moptions\u001b[49m\u001b[38;5;241;43m.\u001b[39;49m\u001b[43mget\u001b[49m\u001b[43m(\u001b[49m\u001b[38;5;124;43m\"\u001b[39;49m\u001b[38;5;124;43mcompression\u001b[39;49m\u001b[38;5;124;43m\"\u001b[39;49m\u001b[43m,\u001b[49m\u001b[43m \u001b[49m\u001b[38;5;28;43;01mNone\u001b[39;49;00m\u001b[43m)\u001b[49m\u001b[43m,\u001b[49m\n\u001b[0;32m   1883\u001b[0m \u001b[43m    \u001b[49m\u001b[43mmemory_map\u001b[49m\u001b[38;5;241;43m=\u001b[39;49m\u001b[38;5;28;43mself\u001b[39;49m\u001b[38;5;241;43m.\u001b[39;49m\u001b[43moptions\u001b[49m\u001b[38;5;241;43m.\u001b[39;49m\u001b[43mget\u001b[49m\u001b[43m(\u001b[49m\u001b[38;5;124;43m\"\u001b[39;49m\u001b[38;5;124;43mmemory_map\u001b[39;49m\u001b[38;5;124;43m\"\u001b[39;49m\u001b[43m,\u001b[49m\u001b[43m \u001b[49m\u001b[38;5;28;43;01mFalse\u001b[39;49;00m\u001b[43m)\u001b[49m\u001b[43m,\u001b[49m\n\u001b[0;32m   1884\u001b[0m \u001b[43m    \u001b[49m\u001b[43mis_text\u001b[49m\u001b[38;5;241;43m=\u001b[39;49m\u001b[43mis_text\u001b[49m\u001b[43m,\u001b[49m\n\u001b[0;32m   1885\u001b[0m \u001b[43m    \u001b[49m\u001b[43merrors\u001b[49m\u001b[38;5;241;43m=\u001b[39;49m\u001b[38;5;28;43mself\u001b[39;49m\u001b[38;5;241;43m.\u001b[39;49m\u001b[43moptions\u001b[49m\u001b[38;5;241;43m.\u001b[39;49m\u001b[43mget\u001b[49m\u001b[43m(\u001b[49m\u001b[38;5;124;43m\"\u001b[39;49m\u001b[38;5;124;43mencoding_errors\u001b[39;49m\u001b[38;5;124;43m\"\u001b[39;49m\u001b[43m,\u001b[49m\u001b[43m \u001b[49m\u001b[38;5;124;43m\"\u001b[39;49m\u001b[38;5;124;43mstrict\u001b[39;49m\u001b[38;5;124;43m\"\u001b[39;49m\u001b[43m)\u001b[49m\u001b[43m,\u001b[49m\n\u001b[0;32m   1886\u001b[0m \u001b[43m    \u001b[49m\u001b[43mstorage_options\u001b[49m\u001b[38;5;241;43m=\u001b[39;49m\u001b[38;5;28;43mself\u001b[39;49m\u001b[38;5;241;43m.\u001b[39;49m\u001b[43moptions\u001b[49m\u001b[38;5;241;43m.\u001b[39;49m\u001b[43mget\u001b[49m\u001b[43m(\u001b[49m\u001b[38;5;124;43m\"\u001b[39;49m\u001b[38;5;124;43mstorage_options\u001b[39;49m\u001b[38;5;124;43m\"\u001b[39;49m\u001b[43m,\u001b[49m\u001b[43m \u001b[49m\u001b[38;5;28;43;01mNone\u001b[39;49;00m\u001b[43m)\u001b[49m\u001b[43m,\u001b[49m\n\u001b[0;32m   1887\u001b[0m \u001b[43m\u001b[49m\u001b[43m)\u001b[49m\n\u001b[0;32m   1888\u001b[0m \u001b[38;5;28;01massert\u001b[39;00m \u001b[38;5;28mself\u001b[39m\u001b[38;5;241m.\u001b[39mhandles \u001b[38;5;129;01mis\u001b[39;00m \u001b[38;5;129;01mnot\u001b[39;00m \u001b[38;5;28;01mNone\u001b[39;00m\n\u001b[0;32m   1889\u001b[0m f \u001b[38;5;241m=\u001b[39m \u001b[38;5;28mself\u001b[39m\u001b[38;5;241m.\u001b[39mhandles\u001b[38;5;241m.\u001b[39mhandle\n",
      "File \u001b[1;32m~\\AppData\\Roaming\\Python\\Python312\\site-packages\\pandas\\io\\common.py:873\u001b[0m, in \u001b[0;36mget_handle\u001b[1;34m(path_or_buf, mode, encoding, compression, memory_map, is_text, errors, storage_options)\u001b[0m\n\u001b[0;32m    868\u001b[0m \u001b[38;5;28;01melif\u001b[39;00m \u001b[38;5;28misinstance\u001b[39m(handle, \u001b[38;5;28mstr\u001b[39m):\n\u001b[0;32m    869\u001b[0m     \u001b[38;5;66;03m# Check whether the filename is to be opened in binary mode.\u001b[39;00m\n\u001b[0;32m    870\u001b[0m     \u001b[38;5;66;03m# Binary mode does not support 'encoding' and 'newline'.\u001b[39;00m\n\u001b[0;32m    871\u001b[0m     \u001b[38;5;28;01mif\u001b[39;00m ioargs\u001b[38;5;241m.\u001b[39mencoding \u001b[38;5;129;01mand\u001b[39;00m \u001b[38;5;124m\"\u001b[39m\u001b[38;5;124mb\u001b[39m\u001b[38;5;124m\"\u001b[39m \u001b[38;5;129;01mnot\u001b[39;00m \u001b[38;5;129;01min\u001b[39;00m ioargs\u001b[38;5;241m.\u001b[39mmode:\n\u001b[0;32m    872\u001b[0m         \u001b[38;5;66;03m# Encoding\u001b[39;00m\n\u001b[1;32m--> 873\u001b[0m         handle \u001b[38;5;241m=\u001b[39m \u001b[38;5;28;43mopen\u001b[39;49m\u001b[43m(\u001b[49m\n\u001b[0;32m    874\u001b[0m \u001b[43m            \u001b[49m\u001b[43mhandle\u001b[49m\u001b[43m,\u001b[49m\n\u001b[0;32m    875\u001b[0m \u001b[43m            \u001b[49m\u001b[43mioargs\u001b[49m\u001b[38;5;241;43m.\u001b[39;49m\u001b[43mmode\u001b[49m\u001b[43m,\u001b[49m\n\u001b[0;32m    876\u001b[0m \u001b[43m            \u001b[49m\u001b[43mencoding\u001b[49m\u001b[38;5;241;43m=\u001b[39;49m\u001b[43mioargs\u001b[49m\u001b[38;5;241;43m.\u001b[39;49m\u001b[43mencoding\u001b[49m\u001b[43m,\u001b[49m\n\u001b[0;32m    877\u001b[0m \u001b[43m            \u001b[49m\u001b[43merrors\u001b[49m\u001b[38;5;241;43m=\u001b[39;49m\u001b[43merrors\u001b[49m\u001b[43m,\u001b[49m\n\u001b[0;32m    878\u001b[0m \u001b[43m            \u001b[49m\u001b[43mnewline\u001b[49m\u001b[38;5;241;43m=\u001b[39;49m\u001b[38;5;124;43m\"\u001b[39;49m\u001b[38;5;124;43m\"\u001b[39;49m\u001b[43m,\u001b[49m\n\u001b[0;32m    879\u001b[0m \u001b[43m        \u001b[49m\u001b[43m)\u001b[49m\n\u001b[0;32m    880\u001b[0m     \u001b[38;5;28;01melse\u001b[39;00m:\n\u001b[0;32m    881\u001b[0m         \u001b[38;5;66;03m# Binary mode\u001b[39;00m\n\u001b[0;32m    882\u001b[0m         handle \u001b[38;5;241m=\u001b[39m \u001b[38;5;28mopen\u001b[39m(handle, ioargs\u001b[38;5;241m.\u001b[39mmode)\n",
      "\u001b[1;31mFileNotFoundError\u001b[0m: [Errno 2] No such file or directory: 'clean.csv'"
     ]
    }
   ],
   "source": [
    "\n",
    "df = pd.read_csv('clean.csv')"
   ]
  },
  {
   "cell_type": "code",
   "execution_count": null,
   "id": "df4ab0b6",
   "metadata": {},
   "outputs": [],
   "source": [
    "data = df.drop('Unnamed: 0',axis =1)"
   ]
  },
  {
   "cell_type": "code",
   "execution_count": null,
   "id": "33443dd5",
   "metadata": {},
   "outputs": [
    {
     "data": {
      "text/html": [
       "<div>\n",
       "<style scoped>\n",
       "    .dataframe tbody tr th:only-of-type {\n",
       "        vertical-align: middle;\n",
       "    }\n",
       "\n",
       "    .dataframe tbody tr th {\n",
       "        vertical-align: top;\n",
       "    }\n",
       "\n",
       "    .dataframe thead th {\n",
       "        text-align: right;\n",
       "    }\n",
       "</style>\n",
       "<table border=\"1\" class=\"dataframe\">\n",
       "  <thead>\n",
       "    <tr style=\"text-align: right;\">\n",
       "      <th></th>\n",
       "      <th>bearer_id</th>\n",
       "      <th>start</th>\n",
       "      <th>start_ms</th>\n",
       "      <th>end</th>\n",
       "      <th>end_ms</th>\n",
       "      <th>imsi</th>\n",
       "      <th>msisdn_number</th>\n",
       "      <th>imei</th>\n",
       "      <th>last_location_name</th>\n",
       "      <th>avg_rtt_dl__ms_</th>\n",
       "      <th>...</th>\n",
       "      <th>youtube_dl__bytes_</th>\n",
       "      <th>youtube_ul__bytes_</th>\n",
       "      <th>netflix_dl__bytes_</th>\n",
       "      <th>netflix_ul__bytes_</th>\n",
       "      <th>gaming_dl__bytes_</th>\n",
       "      <th>gaming_ul__bytes_</th>\n",
       "      <th>other_dl__bytes_</th>\n",
       "      <th>other_ul__bytes_</th>\n",
       "      <th>total_ul__bytes_</th>\n",
       "      <th>total_dl__bytes_</th>\n",
       "    </tr>\n",
       "  </thead>\n",
       "  <tbody>\n",
       "    <tr>\n",
       "      <th>0</th>\n",
       "      <td>13114483460844900352</td>\n",
       "      <td>2019-04-04 12:01:18</td>\n",
       "      <td>770.0</td>\n",
       "      <td>2019-04-25 14:35:31</td>\n",
       "      <td>662.0</td>\n",
       "      <td>2.082014e+14</td>\n",
       "      <td>3.366496e+10</td>\n",
       "      <td>3.552121e+13</td>\n",
       "      <td>9164566995485190</td>\n",
       "      <td>42.000000</td>\n",
       "      <td>...</td>\n",
       "      <td>15854611.0</td>\n",
       "      <td>2501332.0</td>\n",
       "      <td>8198936.0</td>\n",
       "      <td>9656251.0</td>\n",
       "      <td>278082303.0</td>\n",
       "      <td>14344150.0</td>\n",
       "      <td>171744450.0</td>\n",
       "      <td>8814393.0</td>\n",
       "      <td>36749741.0</td>\n",
       "      <td>308879636.0</td>\n",
       "    </tr>\n",
       "    <tr>\n",
       "      <th>1</th>\n",
       "      <td>13114483482878900224</td>\n",
       "      <td>2019-04-09 13:04:04</td>\n",
       "      <td>235.0</td>\n",
       "      <td>2019-04-25 08:15:48</td>\n",
       "      <td>606.0</td>\n",
       "      <td>2.082019e+14</td>\n",
       "      <td>3.368185e+10</td>\n",
       "      <td>3.579401e+13</td>\n",
       "      <td>L77566A</td>\n",
       "      <td>65.000000</td>\n",
       "      <td>...</td>\n",
       "      <td>20247395.0</td>\n",
       "      <td>19111729.0</td>\n",
       "      <td>18338413.0</td>\n",
       "      <td>17227132.0</td>\n",
       "      <td>608750074.0</td>\n",
       "      <td>1170709.0</td>\n",
       "      <td>526904238.0</td>\n",
       "      <td>15055145.0</td>\n",
       "      <td>53800391.0</td>\n",
       "      <td>653384965.0</td>\n",
       "    </tr>\n",
       "    <tr>\n",
       "      <th>2</th>\n",
       "      <td>13114483484080500736</td>\n",
       "      <td>2019-04-09 17:42:11</td>\n",
       "      <td>1.0</td>\n",
       "      <td>2019-04-25 11:58:13</td>\n",
       "      <td>652.0</td>\n",
       "      <td>2.082003e+14</td>\n",
       "      <td>3.376063e+10</td>\n",
       "      <td>3.528151e+13</td>\n",
       "      <td>D42335A</td>\n",
       "      <td>54.448072</td>\n",
       "      <td>...</td>\n",
       "      <td>19725661.0</td>\n",
       "      <td>14699576.0</td>\n",
       "      <td>17587794.0</td>\n",
       "      <td>6163408.0</td>\n",
       "      <td>229584621.0</td>\n",
       "      <td>395630.0</td>\n",
       "      <td>410692588.0</td>\n",
       "      <td>4215763.0</td>\n",
       "      <td>27883638.0</td>\n",
       "      <td>279807335.0</td>\n",
       "    </tr>\n",
       "    <tr>\n",
       "      <th>3</th>\n",
       "      <td>13114483485442799616</td>\n",
       "      <td>2019-04-10 00:31:25</td>\n",
       "      <td>486.0</td>\n",
       "      <td>2019-04-25 07:36:35</td>\n",
       "      <td>171.0</td>\n",
       "      <td>2.082014e+14</td>\n",
       "      <td>3.375034e+10</td>\n",
       "      <td>3.535661e+13</td>\n",
       "      <td>T21824A</td>\n",
       "      <td>54.448072</td>\n",
       "      <td>...</td>\n",
       "      <td>21388122.0</td>\n",
       "      <td>15146643.0</td>\n",
       "      <td>13994646.0</td>\n",
       "      <td>1097942.0</td>\n",
       "      <td>799538153.0</td>\n",
       "      <td>10849722.0</td>\n",
       "      <td>749039933.0</td>\n",
       "      <td>12797283.0</td>\n",
       "      <td>43324218.0</td>\n",
       "      <td>846028530.0</td>\n",
       "    </tr>\n",
       "    <tr>\n",
       "      <th>4</th>\n",
       "      <td>13114483499480700928</td>\n",
       "      <td>2019-04-12 20:10:23</td>\n",
       "      <td>565.0</td>\n",
       "      <td>2019-04-25 10:40:32</td>\n",
       "      <td>954.0</td>\n",
       "      <td>2.082014e+14</td>\n",
       "      <td>3.369980e+10</td>\n",
       "      <td>3.540701e+13</td>\n",
       "      <td>D88865A</td>\n",
       "      <td>54.448072</td>\n",
       "      <td>...</td>\n",
       "      <td>15259380.0</td>\n",
       "      <td>18962873.0</td>\n",
       "      <td>17124581.0</td>\n",
       "      <td>415218.0</td>\n",
       "      <td>527707248.0</td>\n",
       "      <td>3529801.0</td>\n",
       "      <td>550709500.0</td>\n",
       "      <td>13910322.0</td>\n",
       "      <td>38542814.0</td>\n",
       "      <td>569138589.0</td>\n",
       "    </tr>\n",
       "  </tbody>\n",
       "</table>\n",
       "<p>5 rows × 54 columns</p>\n",
       "</div>"
      ],
      "text/plain": [
       "              bearer_id                start  start_ms                  end  \\\n",
       "0  13114483460844900352  2019-04-04 12:01:18     770.0  2019-04-25 14:35:31   \n",
       "1  13114483482878900224  2019-04-09 13:04:04     235.0  2019-04-25 08:15:48   \n",
       "2  13114483484080500736  2019-04-09 17:42:11       1.0  2019-04-25 11:58:13   \n",
       "3  13114483485442799616  2019-04-10 00:31:25     486.0  2019-04-25 07:36:35   \n",
       "4  13114483499480700928  2019-04-12 20:10:23     565.0  2019-04-25 10:40:32   \n",
       "\n",
       "   end_ms          imsi  msisdn_number          imei last_location_name  \\\n",
       "0   662.0  2.082014e+14   3.366496e+10  3.552121e+13   9164566995485190   \n",
       "1   606.0  2.082019e+14   3.368185e+10  3.579401e+13            L77566A   \n",
       "2   652.0  2.082003e+14   3.376063e+10  3.528151e+13            D42335A   \n",
       "3   171.0  2.082014e+14   3.375034e+10  3.535661e+13            T21824A   \n",
       "4   954.0  2.082014e+14   3.369980e+10  3.540701e+13            D88865A   \n",
       "\n",
       "   avg_rtt_dl__ms_  ...  youtube_dl__bytes_  youtube_ul__bytes_  \\\n",
       "0        42.000000  ...          15854611.0           2501332.0   \n",
       "1        65.000000  ...          20247395.0          19111729.0   \n",
       "2        54.448072  ...          19725661.0          14699576.0   \n",
       "3        54.448072  ...          21388122.0          15146643.0   \n",
       "4        54.448072  ...          15259380.0          18962873.0   \n",
       "\n",
       "   netflix_dl__bytes_  netflix_ul__bytes_  gaming_dl__bytes_  \\\n",
       "0           8198936.0           9656251.0        278082303.0   \n",
       "1          18338413.0          17227132.0        608750074.0   \n",
       "2          17587794.0           6163408.0        229584621.0   \n",
       "3          13994646.0           1097942.0        799538153.0   \n",
       "4          17124581.0            415218.0        527707248.0   \n",
       "\n",
       "   gaming_ul__bytes_  other_dl__bytes_  other_ul__bytes_  total_ul__bytes_  \\\n",
       "0         14344150.0       171744450.0         8814393.0        36749741.0   \n",
       "1          1170709.0       526904238.0        15055145.0        53800391.0   \n",
       "2           395630.0       410692588.0         4215763.0        27883638.0   \n",
       "3         10849722.0       749039933.0        12797283.0        43324218.0   \n",
       "4          3529801.0       550709500.0        13910322.0        38542814.0   \n",
       "\n",
       "   total_dl__bytes_  \n",
       "0       308879636.0  \n",
       "1       653384965.0  \n",
       "2       279807335.0  \n",
       "3       846028530.0  \n",
       "4       569138589.0  \n",
       "\n",
       "[5 rows x 54 columns]"
      ]
     },
     "execution_count": 6,
     "metadata": {},
     "output_type": "execute_result"
    }
   ],
   "source": [
    "data.head()"
   ]
  },
  {
   "cell_type": "code",
   "execution_count": null,
   "id": "a1abbaa2",
   "metadata": {
    "scrolled": true
   },
   "outputs": [
    {
     "name": "stdout",
     "output_type": "stream",
     "text": [
      "<class 'pandas.core.frame.DataFrame'>\n",
      "RangeIndex: 150001 entries, 0 to 150000\n",
      "Data columns (total 54 columns):\n",
      " #   Column                                    Non-Null Count   Dtype  \n",
      "---  ------                                    --------------   -----  \n",
      " 0   bearer_id                                 150001 non-null  object \n",
      " 1   start                                     150001 non-null  object \n",
      " 2   start_ms                                  150001 non-null  float64\n",
      " 3   end                                       150001 non-null  object \n",
      " 4   end_ms                                    150001 non-null  float64\n",
      " 5   imsi                                      150001 non-null  float64\n",
      " 6   msisdn_number                             150001 non-null  float64\n",
      " 7   imei                                      150001 non-null  float64\n",
      " 8   last_location_name                        150001 non-null  object \n",
      " 9   avg_rtt_dl__ms_                           150001 non-null  float64\n",
      " 10  avg_rtt_ul__ms_                           150001 non-null  float64\n",
      " 11  avg_bearer_tp_dl__kbps_                   150001 non-null  float64\n",
      " 12  avg_bearer_tp_ul__kbps_                   150001 non-null  float64\n",
      " 13  tcp_dl_retrans__vol__bytes_               150001 non-null  float64\n",
      " 14  tcp_ul_retrans__vol__bytes_               150001 non-null  float64\n",
      " 15  dl_tp_<_50_kbps__%_                       150001 non-null  float64\n",
      " 16  50_kbps_<_dl_tp_<_250_kbps__%_            150001 non-null  float64\n",
      " 17  250_kbps_<_dl_tp_<_1_mbps__%_             150001 non-null  float64\n",
      " 18  dl_tp_>_1_mbps__%_                        150001 non-null  float64\n",
      " 19  ul_tp_<_10_kbps__%_                       150001 non-null  float64\n",
      " 20  10_kbps_<_ul_tp_<_50_kbps__%_             150001 non-null  float64\n",
      " 21  50_kbps_<_ul_tp_<_300_kbps__%_            150001 non-null  float64\n",
      " 22  ul_tp_>_300_kbps__%_                      150001 non-null  float64\n",
      " 23  http_dl__bytes_                           150001 non-null  float64\n",
      " 24  http_ul__bytes_                           150001 non-null  float64\n",
      " 25  activity_duration_dl__ms_                 150001 non-null  float64\n",
      " 26  activity_duration_ul__ms_                 150001 non-null  float64\n",
      " 27  dur___ms__1                               150001 non-null  float64\n",
      " 28  handset_manufacturer                      150001 non-null  object \n",
      " 29  handset_type                              150001 non-null  object \n",
      " 30  nb_of_sec_with_125000b_<_vol_dl           150001 non-null  float64\n",
      " 31  nb_of_sec_with_1250b_<_vol_ul_<_6250b     150001 non-null  float64\n",
      " 32  nb_of_sec_with_31250b_<_vol_dl_<_125000b  150001 non-null  float64\n",
      " 33  nb_of_sec_with_37500b_<_vol_ul            150001 non-null  float64\n",
      " 34  nb_of_sec_with_6250b_<_vol_dl_<_31250b    150001 non-null  float64\n",
      " 35  nb_of_sec_with_6250b_<_vol_ul_<_37500b    150001 non-null  float64\n",
      " 36  nb_of_sec_with_vol_dl_<_6250b             150001 non-null  float64\n",
      " 37  nb_of_sec_with_vol_ul_<_1250b             150001 non-null  float64\n",
      " 38  social_media_dl__bytes_                   150001 non-null  float64\n",
      " 39  social_media_ul__bytes_                   150001 non-null  float64\n",
      " 40  google_dl__bytes_                         150001 non-null  float64\n",
      " 41  google_ul__bytes_                         150001 non-null  float64\n",
      " 42  email_dl__bytes_                          150001 non-null  float64\n",
      " 43  email_ul__bytes_                          150001 non-null  float64\n",
      " 44  youtube_dl__bytes_                        150001 non-null  float64\n",
      " 45  youtube_ul__bytes_                        150001 non-null  float64\n",
      " 46  netflix_dl__bytes_                        150001 non-null  float64\n",
      " 47  netflix_ul__bytes_                        150001 non-null  float64\n",
      " 48  gaming_dl__bytes_                         150001 non-null  float64\n",
      " 49  gaming_ul__bytes_                         150001 non-null  float64\n",
      " 50  other_dl__bytes_                          150001 non-null  float64\n",
      " 51  other_ul__bytes_                          150001 non-null  float64\n",
      " 52  total_ul__bytes_                          150001 non-null  float64\n",
      " 53  total_dl__bytes_                          150001 non-null  float64\n",
      "dtypes: float64(48), object(6)\n",
      "memory usage: 61.8+ MB\n"
     ]
    }
   ],
   "source": [
    "data.info()"
   ]
  },
  {
   "cell_type": "markdown",
   "id": "d4b7a604",
   "metadata": {},
   "source": [
    "# Task 2 - User Engagement Analysis"
   ]
  },
  {
   "cell_type": "markdown",
   "id": "91bbad5e",
   "metadata": {},
   "source": [
    "objective:expected to track the user’s engagement using the following engagement metrics: \n",
    "●\tsessions frequency \n",
    "●\tthe duration of the session \n",
    "●\tthe session total traffic (download and upload (bytes))\n"
   ]
  },
  {
   "cell_type": "code",
   "execution_count": null,
   "id": "5178d197",
   "metadata": {},
   "outputs": [],
   "source": [
    "# Convert start and end timestamps to datetime objects\n",
    "data['start'] = pd.to_datetime(data['start'])\n",
    "data['end'] = pd.to_datetime(data['end'])\n",
    "    "
   ]
  },
  {
   "cell_type": "markdown",
   "id": "0b6e1387",
   "metadata": {},
   "source": [
    "# session frequency"
   ]
  },
  {
   "cell_type": "code",
   "execution_count": null,
   "id": "6c6e6f66",
   "metadata": {},
   "outputs": [
    {
     "data": {
      "text/html": [
       "<div>\n",
       "<style scoped>\n",
       "    .dataframe tbody tr th:only-of-type {\n",
       "        vertical-align: middle;\n",
       "    }\n",
       "\n",
       "    .dataframe tbody tr th {\n",
       "        vertical-align: top;\n",
       "    }\n",
       "\n",
       "    .dataframe thead th {\n",
       "        text-align: right;\n",
       "    }\n",
       "</style>\n",
       "<table border=\"1\" class=\"dataframe\">\n",
       "  <thead>\n",
       "    <tr style=\"text-align: right;\">\n",
       "      <th></th>\n",
       "      <th>msisdn_number</th>\n",
       "      <th>session_frequency</th>\n",
       "    </tr>\n",
       "  </thead>\n",
       "  <tbody>\n",
       "    <tr>\n",
       "      <th>13526</th>\n",
       "      <td>3.362632e+10</td>\n",
       "      <td>1084</td>\n",
       "    </tr>\n",
       "    <tr>\n",
       "      <th>13180</th>\n",
       "      <td>3.362578e+10</td>\n",
       "      <td>17</td>\n",
       "    </tr>\n",
       "    <tr>\n",
       "      <th>6437</th>\n",
       "      <td>3.361489e+10</td>\n",
       "      <td>17</td>\n",
       "    </tr>\n",
       "    <tr>\n",
       "      <th>37052</th>\n",
       "      <td>3.365973e+10</td>\n",
       "      <td>16</td>\n",
       "    </tr>\n",
       "    <tr>\n",
       "      <th>92923</th>\n",
       "      <td>3.376054e+10</td>\n",
       "      <td>15</td>\n",
       "    </tr>\n",
       "    <tr>\n",
       "      <th>...</th>\n",
       "      <td>...</td>\n",
       "      <td>...</td>\n",
       "    </tr>\n",
       "    <tr>\n",
       "      <th>41061</th>\n",
       "      <td>3.366068e+10</td>\n",
       "      <td>1</td>\n",
       "    </tr>\n",
       "    <tr>\n",
       "      <th>41059</th>\n",
       "      <td>3.366068e+10</td>\n",
       "      <td>1</td>\n",
       "    </tr>\n",
       "    <tr>\n",
       "      <th>41058</th>\n",
       "      <td>3.366067e+10</td>\n",
       "      <td>1</td>\n",
       "    </tr>\n",
       "    <tr>\n",
       "      <th>41057</th>\n",
       "      <td>3.366067e+10</td>\n",
       "      <td>1</td>\n",
       "    </tr>\n",
       "    <tr>\n",
       "      <th>106855</th>\n",
       "      <td>8.823971e+14</td>\n",
       "      <td>1</td>\n",
       "    </tr>\n",
       "  </tbody>\n",
       "</table>\n",
       "<p>106856 rows × 2 columns</p>\n",
       "</div>"
      ],
      "text/plain": [
       "        msisdn_number  session_frequency\n",
       "13526    3.362632e+10               1084\n",
       "13180    3.362578e+10                 17\n",
       "6437     3.361489e+10                 17\n",
       "37052    3.365973e+10                 16\n",
       "92923    3.376054e+10                 15\n",
       "...               ...                ...\n",
       "41061    3.366068e+10                  1\n",
       "41059    3.366068e+10                  1\n",
       "41058    3.366067e+10                  1\n",
       "41057    3.366067e+10                  1\n",
       "106855   8.823971e+14                  1\n",
       "\n",
       "[106856 rows x 2 columns]"
      ]
     },
     "execution_count": 9,
     "metadata": {},
     "output_type": "execute_result"
    }
   ],
   "source": [
    "# calculate the session freqquency:\n",
    "\n",
    "session_frequency = data.groupby('msisdn_number')['bearer_id'].count().reset_index(name='session_frequency').sort_values('session_frequency',ascending=False)\n",
    "session_frequency"
   ]
  },
  {
   "cell_type": "markdown",
   "id": "24b07c84",
   "metadata": {},
   "source": [
    "# Session duration"
   ]
  },
  {
   "cell_type": "code",
   "execution_count": null,
   "id": "7339f251",
   "metadata": {},
   "outputs": [],
   "source": [
    "sess_dur = data.groupby('msisdn_number')['dur___ms__1'].sum().reset_index(name='session_dur_hr').sort_values('session_dur_hr', ascending = False)"
   ]
  },
  {
   "cell_type": "code",
   "execution_count": null,
   "id": "fb72c0ab",
   "metadata": {},
   "outputs": [
    {
     "data": {
      "text/html": [
       "<div>\n",
       "<style scoped>\n",
       "    .dataframe tbody tr th:only-of-type {\n",
       "        vertical-align: middle;\n",
       "    }\n",
       "\n",
       "    .dataframe tbody tr th {\n",
       "        vertical-align: top;\n",
       "    }\n",
       "\n",
       "    .dataframe thead th {\n",
       "        text-align: right;\n",
       "    }\n",
       "</style>\n",
       "<table border=\"1\" class=\"dataframe\">\n",
       "  <thead>\n",
       "    <tr style=\"text-align: right;\">\n",
       "      <th></th>\n",
       "      <th>msisdn_number</th>\n",
       "      <th>session_dur_hr</th>\n",
       "    </tr>\n",
       "  </thead>\n",
       "  <tbody>\n",
       "    <tr>\n",
       "      <th>13526</th>\n",
       "      <td>3.362632e+10</td>\n",
       "      <td>6.688563e+10</td>\n",
       "    </tr>\n",
       "    <tr>\n",
       "      <th>37052</th>\n",
       "      <td>3.365973e+10</td>\n",
       "      <td>2.087582e+09</td>\n",
       "    </tr>\n",
       "    <tr>\n",
       "      <th>6437</th>\n",
       "      <td>3.361489e+10</td>\n",
       "      <td>1.933339e+09</td>\n",
       "    </tr>\n",
       "    <tr>\n",
       "      <th>76363</th>\n",
       "      <td>3.367588e+10</td>\n",
       "      <td>1.927235e+09</td>\n",
       "    </tr>\n",
       "    <tr>\n",
       "      <th>13180</th>\n",
       "      <td>3.362578e+10</td>\n",
       "      <td>1.890414e+09</td>\n",
       "    </tr>\n",
       "    <tr>\n",
       "      <th>...</th>\n",
       "      <td>...</td>\n",
       "      <td>...</td>\n",
       "    </tr>\n",
       "    <tr>\n",
       "      <th>24741</th>\n",
       "      <td>3.365043e+10</td>\n",
       "      <td>7.267018e+06</td>\n",
       "    </tr>\n",
       "    <tr>\n",
       "      <th>85146</th>\n",
       "      <td>3.369839e+10</td>\n",
       "      <td>7.258080e+06</td>\n",
       "    </tr>\n",
       "    <tr>\n",
       "      <th>35287</th>\n",
       "      <td>3.365933e+10</td>\n",
       "      <td>7.189000e+06</td>\n",
       "    </tr>\n",
       "    <tr>\n",
       "      <th>60767</th>\n",
       "      <td>3.366566e+10</td>\n",
       "      <td>7.146574e+06</td>\n",
       "    </tr>\n",
       "    <tr>\n",
       "      <th>99736</th>\n",
       "      <td>3.376351e+10</td>\n",
       "      <td>7.142988e+06</td>\n",
       "    </tr>\n",
       "  </tbody>\n",
       "</table>\n",
       "<p>106856 rows × 2 columns</p>\n",
       "</div>"
      ],
      "text/plain": [
       "       msisdn_number  session_dur_hr\n",
       "13526   3.362632e+10    6.688563e+10\n",
       "37052   3.365973e+10    2.087582e+09\n",
       "6437    3.361489e+10    1.933339e+09\n",
       "76363   3.367588e+10    1.927235e+09\n",
       "13180   3.362578e+10    1.890414e+09\n",
       "...              ...             ...\n",
       "24741   3.365043e+10    7.267018e+06\n",
       "85146   3.369839e+10    7.258080e+06\n",
       "35287   3.365933e+10    7.189000e+06\n",
       "60767   3.366566e+10    7.146574e+06\n",
       "99736   3.376351e+10    7.142988e+06\n",
       "\n",
       "[106856 rows x 2 columns]"
      ]
     },
     "execution_count": 11,
     "metadata": {},
     "output_type": "execute_result"
    }
   ],
   "source": [
    "sess_dur"
   ]
  },
  {
   "cell_type": "code",
   "execution_count": null,
   "id": "a66e47dc",
   "metadata": {},
   "outputs": [],
   "source": [
    "sess_dur['session_dur_hr']=sess_dur['session_dur_hr'].apply(lambda x: int(x/(1000*60*60)%24))"
   ]
  },
  {
   "cell_type": "code",
   "execution_count": null,
   "id": "b86b5776",
   "metadata": {},
   "outputs": [
    {
     "data": {
      "text/html": [
       "<div>\n",
       "<style scoped>\n",
       "    .dataframe tbody tr th:only-of-type {\n",
       "        vertical-align: middle;\n",
       "    }\n",
       "\n",
       "    .dataframe tbody tr th {\n",
       "        vertical-align: top;\n",
       "    }\n",
       "\n",
       "    .dataframe thead th {\n",
       "        text-align: right;\n",
       "    }\n",
       "</style>\n",
       "<table border=\"1\" class=\"dataframe\">\n",
       "  <thead>\n",
       "    <tr style=\"text-align: right;\">\n",
       "      <th></th>\n",
       "      <th>msisdn_number</th>\n",
       "      <th>session_dur_hr</th>\n",
       "    </tr>\n",
       "  </thead>\n",
       "  <tbody>\n",
       "    <tr>\n",
       "      <th>13526</th>\n",
       "      <td>3.362632e+10</td>\n",
       "      <td>6.688563e+10</td>\n",
       "    </tr>\n",
       "    <tr>\n",
       "      <th>37052</th>\n",
       "      <td>3.365973e+10</td>\n",
       "      <td>2.087582e+09</td>\n",
       "    </tr>\n",
       "    <tr>\n",
       "      <th>6437</th>\n",
       "      <td>3.361489e+10</td>\n",
       "      <td>1.933339e+09</td>\n",
       "    </tr>\n",
       "    <tr>\n",
       "      <th>76363</th>\n",
       "      <td>3.367588e+10</td>\n",
       "      <td>1.927235e+09</td>\n",
       "    </tr>\n",
       "    <tr>\n",
       "      <th>13180</th>\n",
       "      <td>3.362578e+10</td>\n",
       "      <td>1.890414e+09</td>\n",
       "    </tr>\n",
       "    <tr>\n",
       "      <th>...</th>\n",
       "      <td>...</td>\n",
       "      <td>...</td>\n",
       "    </tr>\n",
       "    <tr>\n",
       "      <th>24741</th>\n",
       "      <td>3.365043e+10</td>\n",
       "      <td>7.267018e+06</td>\n",
       "    </tr>\n",
       "    <tr>\n",
       "      <th>85146</th>\n",
       "      <td>3.369839e+10</td>\n",
       "      <td>7.258080e+06</td>\n",
       "    </tr>\n",
       "    <tr>\n",
       "      <th>35287</th>\n",
       "      <td>3.365933e+10</td>\n",
       "      <td>7.189000e+06</td>\n",
       "    </tr>\n",
       "    <tr>\n",
       "      <th>60767</th>\n",
       "      <td>3.366566e+10</td>\n",
       "      <td>7.146574e+06</td>\n",
       "    </tr>\n",
       "    <tr>\n",
       "      <th>99736</th>\n",
       "      <td>3.376351e+10</td>\n",
       "      <td>7.142988e+06</td>\n",
       "    </tr>\n",
       "  </tbody>\n",
       "</table>\n",
       "<p>106856 rows × 2 columns</p>\n",
       "</div>"
      ],
      "text/plain": [
       "       msisdn_number  session_dur_hr\n",
       "13526   3.362632e+10    6.688563e+10\n",
       "37052   3.365973e+10    2.087582e+09\n",
       "6437    3.361489e+10    1.933339e+09\n",
       "76363   3.367588e+10    1.927235e+09\n",
       "13180   3.362578e+10    1.890414e+09\n",
       "...              ...             ...\n",
       "24741   3.365043e+10    7.267018e+06\n",
       "85146   3.369839e+10    7.258080e+06\n",
       "35287   3.365933e+10    7.189000e+06\n",
       "60767   3.366566e+10    7.146574e+06\n",
       "99736   3.376351e+10    7.142988e+06\n",
       "\n",
       "[106856 rows x 2 columns]"
      ]
     },
     "execution_count": 12,
     "metadata": {},
     "output_type": "execute_result"
    }
   ],
   "source": [
    "sess_dur"
   ]
  },
  {
   "cell_type": "markdown",
   "id": "ea237b9e",
   "metadata": {},
   "source": [
    "# Total traffic:"
   ]
  },
  {
   "cell_type": "code",
   "execution_count": null,
   "id": "9ae16e05",
   "metadata": {},
   "outputs": [],
   "source": [
    "data['total_traffic'] = data['total_dl__bytes_']+data['total_ul__bytes_']"
   ]
  },
  {
   "cell_type": "code",
   "execution_count": null,
   "id": "ef531062",
   "metadata": {},
   "outputs": [
    {
     "data": {
      "text/plain": [
       "0         3.456294e+08\n",
       "1         7.071854e+08\n",
       "2         3.076910e+08\n",
       "3         8.893527e+08\n",
       "4         6.076814e+08\n",
       "              ...     \n",
       "149996    6.318041e+08\n",
       "149997    7.057839e+08\n",
       "149998    6.276986e+08\n",
       "149999    4.015220e+08\n",
       "150000    4.957631e+08\n",
       "Name: total_traffic, Length: 150001, dtype: float64"
      ]
     },
     "execution_count": 14,
     "metadata": {},
     "output_type": "execute_result"
    }
   ],
   "source": [
    "data['total_traffic']"
   ]
  },
  {
   "cell_type": "code",
   "execution_count": null,
   "id": "1bb429ab",
   "metadata": {},
   "outputs": [],
   "source": [
    "sess_trfc = data.groupby('msisdn_number')['total_traffic'].sum().reset_index(name='session_trfc').sort_values('session_trfc', ascending = False)"
   ]
  },
  {
   "cell_type": "code",
   "execution_count": null,
   "id": "11d6a841",
   "metadata": {},
   "outputs": [
    {
     "data": {
      "text/html": [
       "<div>\n",
       "<style scoped>\n",
       "    .dataframe tbody tr th:only-of-type {\n",
       "        vertical-align: middle;\n",
       "    }\n",
       "\n",
       "    .dataframe tbody tr th {\n",
       "        vertical-align: top;\n",
       "    }\n",
       "\n",
       "    .dataframe thead th {\n",
       "        text-align: right;\n",
       "    }\n",
       "</style>\n",
       "<table border=\"1\" class=\"dataframe\">\n",
       "  <thead>\n",
       "    <tr style=\"text-align: right;\">\n",
       "      <th></th>\n",
       "      <th>msisdn_number</th>\n",
       "      <th>session_trfc</th>\n",
       "    </tr>\n",
       "  </thead>\n",
       "  <tbody>\n",
       "    <tr>\n",
       "      <th>13526</th>\n",
       "      <td>3.362632e+10</td>\n",
       "      <td>5.397493e+11</td>\n",
       "    </tr>\n",
       "    <tr>\n",
       "      <th>6437</th>\n",
       "      <td>3.361489e+10</td>\n",
       "      <td>8.846226e+09</td>\n",
       "    </tr>\n",
       "    <tr>\n",
       "      <th>92923</th>\n",
       "      <td>3.376054e+10</td>\n",
       "      <td>8.514774e+09</td>\n",
       "    </tr>\n",
       "    <tr>\n",
       "      <th>13180</th>\n",
       "      <td>3.362578e+10</td>\n",
       "      <td>8.499621e+09</td>\n",
       "    </tr>\n",
       "    <tr>\n",
       "      <th>76363</th>\n",
       "      <td>3.367588e+10</td>\n",
       "      <td>7.891111e+09</td>\n",
       "    </tr>\n",
       "    <tr>\n",
       "      <th>...</th>\n",
       "      <td>...</td>\n",
       "      <td>...</td>\n",
       "    </tr>\n",
       "    <tr>\n",
       "      <th>76161</th>\n",
       "      <td>3.367548e+10</td>\n",
       "      <td>3.802236e+07</td>\n",
       "    </tr>\n",
       "    <tr>\n",
       "      <th>104769</th>\n",
       "      <td>3.378251e+10</td>\n",
       "      <td>3.792924e+07</td>\n",
       "    </tr>\n",
       "    <tr>\n",
       "      <th>63657</th>\n",
       "      <td>3.366668e+10</td>\n",
       "      <td>3.399962e+07</td>\n",
       "    </tr>\n",
       "    <tr>\n",
       "      <th>43677</th>\n",
       "      <td>3.366132e+10</td>\n",
       "      <td>3.357584e+07</td>\n",
       "    </tr>\n",
       "    <tr>\n",
       "      <th>34696</th>\n",
       "      <td>3.365920e+10</td>\n",
       "      <td>3.324901e+07</td>\n",
       "    </tr>\n",
       "  </tbody>\n",
       "</table>\n",
       "<p>106856 rows × 2 columns</p>\n",
       "</div>"
      ],
      "text/plain": [
       "        msisdn_number  session_trfc\n",
       "13526    3.362632e+10  5.397493e+11\n",
       "6437     3.361489e+10  8.846226e+09\n",
       "92923    3.376054e+10  8.514774e+09\n",
       "13180    3.362578e+10  8.499621e+09\n",
       "76363    3.367588e+10  7.891111e+09\n",
       "...               ...           ...\n",
       "76161    3.367548e+10  3.802236e+07\n",
       "104769   3.378251e+10  3.792924e+07\n",
       "63657    3.366668e+10  3.399962e+07\n",
       "43677    3.366132e+10  3.357584e+07\n",
       "34696    3.365920e+10  3.324901e+07\n",
       "\n",
       "[106856 rows x 2 columns]"
      ]
     },
     "execution_count": 18,
     "metadata": {},
     "output_type": "execute_result"
    }
   ],
   "source": [
    "sess_trfc"
   ]
  },
  {
   "cell_type": "code",
   "execution_count": null,
   "id": "723224c2",
   "metadata": {},
   "outputs": [
    {
     "data": {
      "text/html": [
       "<div>\n",
       "<style scoped>\n",
       "    .dataframe tbody tr th:only-of-type {\n",
       "        vertical-align: middle;\n",
       "    }\n",
       "\n",
       "    .dataframe tbody tr th {\n",
       "        vertical-align: top;\n",
       "    }\n",
       "\n",
       "    .dataframe thead th {\n",
       "        text-align: right;\n",
       "    }\n",
       "</style>\n",
       "<table border=\"1\" class=\"dataframe\">\n",
       "  <thead>\n",
       "    <tr style=\"text-align: right;\">\n",
       "      <th></th>\n",
       "      <th>msisdn_number</th>\n",
       "      <th>session_trfc_mb</th>\n",
       "    </tr>\n",
       "  </thead>\n",
       "  <tbody>\n",
       "    <tr>\n",
       "      <th>13526</th>\n",
       "      <td>3.362632e+10</td>\n",
       "      <td>514745.010179</td>\n",
       "    </tr>\n",
       "    <tr>\n",
       "      <th>6437</th>\n",
       "      <td>3.361489e+10</td>\n",
       "      <td>8436.419004</td>\n",
       "    </tr>\n",
       "    <tr>\n",
       "      <th>92923</th>\n",
       "      <td>3.376054e+10</td>\n",
       "      <td>8120.321239</td>\n",
       "    </tr>\n",
       "    <tr>\n",
       "      <th>13180</th>\n",
       "      <td>3.362578e+10</td>\n",
       "      <td>8105.869982</td>\n",
       "    </tr>\n",
       "    <tr>\n",
       "      <th>76363</th>\n",
       "      <td>3.367588e+10</td>\n",
       "      <td>7525.549515</td>\n",
       "    </tr>\n",
       "    <tr>\n",
       "      <th>...</th>\n",
       "      <td>...</td>\n",
       "      <td>...</td>\n",
       "    </tr>\n",
       "    <tr>\n",
       "      <th>76161</th>\n",
       "      <td>3.367548e+10</td>\n",
       "      <td>36.260945</td>\n",
       "    </tr>\n",
       "    <tr>\n",
       "      <th>104769</th>\n",
       "      <td>3.378251e+10</td>\n",
       "      <td>36.172143</td>\n",
       "    </tr>\n",
       "    <tr>\n",
       "      <th>63657</th>\n",
       "      <td>3.366668e+10</td>\n",
       "      <td>32.424568</td>\n",
       "    </tr>\n",
       "    <tr>\n",
       "      <th>43677</th>\n",
       "      <td>3.366132e+10</td>\n",
       "      <td>32.020416</td>\n",
       "    </tr>\n",
       "    <tr>\n",
       "      <th>34696</th>\n",
       "      <td>3.365920e+10</td>\n",
       "      <td>31.708726</td>\n",
       "    </tr>\n",
       "  </tbody>\n",
       "</table>\n",
       "<p>106856 rows × 2 columns</p>\n",
       "</div>"
      ],
      "text/plain": [
       "        msisdn_number  session_trfc_mb\n",
       "13526    3.362632e+10    514745.010179\n",
       "6437     3.361489e+10      8436.419004\n",
       "92923    3.376054e+10      8120.321239\n",
       "13180    3.362578e+10      8105.869982\n",
       "76363    3.367588e+10      7525.549515\n",
       "...               ...              ...\n",
       "76161    3.367548e+10        36.260945\n",
       "104769   3.378251e+10        36.172143\n",
       "63657    3.366668e+10        32.424568\n",
       "43677    3.366132e+10        32.020416\n",
       "34696    3.365920e+10        31.708726\n",
       "\n",
       "[106856 rows x 2 columns]"
      ]
     },
     "execution_count": 19,
     "metadata": {},
     "output_type": "execute_result"
    }
   ],
   "source": [
    "sess_trfc['session_trfc_mb'] = (sess_trfc['session_trfc'] / 1024) / 1024\n",
    "session_trfc = sess_trfc.drop('session_trfc',axis=1)\n",
    "session_trfc\n"
   ]
  },
  {
   "cell_type": "code",
   "execution_count": null,
   "id": "0fe608c3",
   "metadata": {},
   "outputs": [],
   "source": [
    "aggregate_metrics  = sess_dur.merge(session_frequency,on='msisdn_number').merge(session_trfc, on='msisdn_number')"
   ]
  },
  {
   "cell_type": "code",
   "execution_count": null,
   "id": "86ee0bf6",
   "metadata": {},
   "outputs": [
    {
     "data": {
      "text/html": [
       "<div>\n",
       "<style scoped>\n",
       "    .dataframe tbody tr th:only-of-type {\n",
       "        vertical-align: middle;\n",
       "    }\n",
       "\n",
       "    .dataframe tbody tr th {\n",
       "        vertical-align: top;\n",
       "    }\n",
       "\n",
       "    .dataframe thead th {\n",
       "        text-align: right;\n",
       "    }\n",
       "</style>\n",
       "<table border=\"1\" class=\"dataframe\">\n",
       "  <thead>\n",
       "    <tr style=\"text-align: right;\">\n",
       "      <th></th>\n",
       "      <th>msisdn_number</th>\n",
       "      <th>session_dur_hr</th>\n",
       "      <th>session_frequency</th>\n",
       "      <th>session_trfc_mb</th>\n",
       "    </tr>\n",
       "  </thead>\n",
       "  <tbody>\n",
       "    <tr>\n",
       "      <th>0</th>\n",
       "      <td>3.362632e+10</td>\n",
       "      <td>6.688563e+10</td>\n",
       "      <td>1084</td>\n",
       "      <td>514745.010179</td>\n",
       "    </tr>\n",
       "    <tr>\n",
       "      <th>1</th>\n",
       "      <td>3.365973e+10</td>\n",
       "      <td>2.087582e+09</td>\n",
       "      <td>16</td>\n",
       "      <td>7348.883422</td>\n",
       "    </tr>\n",
       "    <tr>\n",
       "      <th>2</th>\n",
       "      <td>3.361489e+10</td>\n",
       "      <td>1.933339e+09</td>\n",
       "      <td>17</td>\n",
       "      <td>8436.419004</td>\n",
       "    </tr>\n",
       "    <tr>\n",
       "      <th>3</th>\n",
       "      <td>3.367588e+10</td>\n",
       "      <td>1.927235e+09</td>\n",
       "      <td>15</td>\n",
       "      <td>7525.549515</td>\n",
       "    </tr>\n",
       "    <tr>\n",
       "      <th>4</th>\n",
       "      <td>3.362578e+10</td>\n",
       "      <td>1.890414e+09</td>\n",
       "      <td>17</td>\n",
       "      <td>8105.869982</td>\n",
       "    </tr>\n",
       "    <tr>\n",
       "      <th>...</th>\n",
       "      <td>...</td>\n",
       "      <td>...</td>\n",
       "      <td>...</td>\n",
       "      <td>...</td>\n",
       "    </tr>\n",
       "    <tr>\n",
       "      <th>106851</th>\n",
       "      <td>3.365043e+10</td>\n",
       "      <td>7.267018e+06</td>\n",
       "      <td>1</td>\n",
       "      <td>199.216558</td>\n",
       "    </tr>\n",
       "    <tr>\n",
       "      <th>106852</th>\n",
       "      <td>3.369839e+10</td>\n",
       "      <td>7.258080e+06</td>\n",
       "      <td>1</td>\n",
       "      <td>797.900773</td>\n",
       "    </tr>\n",
       "    <tr>\n",
       "      <th>106853</th>\n",
       "      <td>3.365933e+10</td>\n",
       "      <td>7.189000e+06</td>\n",
       "      <td>1</td>\n",
       "      <td>266.842393</td>\n",
       "    </tr>\n",
       "    <tr>\n",
       "      <th>106854</th>\n",
       "      <td>3.366566e+10</td>\n",
       "      <td>7.146574e+06</td>\n",
       "      <td>1</td>\n",
       "      <td>647.084608</td>\n",
       "    </tr>\n",
       "    <tr>\n",
       "      <th>106855</th>\n",
       "      <td>3.376351e+10</td>\n",
       "      <td>7.142988e+06</td>\n",
       "      <td>1</td>\n",
       "      <td>532.469647</td>\n",
       "    </tr>\n",
       "  </tbody>\n",
       "</table>\n",
       "<p>106856 rows × 4 columns</p>\n",
       "</div>"
      ],
      "text/plain": [
       "        msisdn_number  session_dur_hr  session_frequency  session_trfc_mb\n",
       "0        3.362632e+10    6.688563e+10               1084    514745.010179\n",
       "1        3.365973e+10    2.087582e+09                 16      7348.883422\n",
       "2        3.361489e+10    1.933339e+09                 17      8436.419004\n",
       "3        3.367588e+10    1.927235e+09                 15      7525.549515\n",
       "4        3.362578e+10    1.890414e+09                 17      8105.869982\n",
       "...               ...             ...                ...              ...\n",
       "106851   3.365043e+10    7.267018e+06                  1       199.216558\n",
       "106852   3.369839e+10    7.258080e+06                  1       797.900773\n",
       "106853   3.365933e+10    7.189000e+06                  1       266.842393\n",
       "106854   3.366566e+10    7.146574e+06                  1       647.084608\n",
       "106855   3.376351e+10    7.142988e+06                  1       532.469647\n",
       "\n",
       "[106856 rows x 4 columns]"
      ]
     },
     "execution_count": 21,
     "metadata": {},
     "output_type": "execute_result"
    }
   ],
   "source": [
    "aggregate_metrics"
   ]
  },
  {
   "cell_type": "markdown",
   "id": "b09129fc",
   "metadata": {},
   "source": [
    "# ●\tAggregate the above metrics per customer ID (MSISDN) and report the top 10 customers per engagement metric "
   ]
  },
  {
   "cell_type": "code",
   "execution_count": null,
   "id": "b2242c6a",
   "metadata": {},
   "outputs": [],
   "source": [
    "# Group by 'msisdn_number' and calculate aggregated metrics\n",
    "aggregated_metrics = aggregate_metrics.groupby('msisdn_number').agg(\n",
    "    session_dur_hr=('session_dur_hr', 'sum'),\n",
    "    session_frequency=('session_frequency', 'sum'),\n",
    "    session_trfc_mb=('session_trfc_mb', 'sum')\n",
    ")"
   ]
  },
  {
   "cell_type": "markdown",
   "id": "f3b5315b",
   "metadata": {},
   "source": [
    "# - Top 10 customers per session duration "
   ]
  },
  {
   "cell_type": "code",
   "execution_count": null,
   "id": "f350ee20",
   "metadata": {},
   "outputs": [
    {
     "data": {
      "text/html": [
       "<div>\n",
       "<style scoped>\n",
       "    .dataframe tbody tr th:only-of-type {\n",
       "        vertical-align: middle;\n",
       "    }\n",
       "\n",
       "    .dataframe tbody tr th {\n",
       "        vertical-align: top;\n",
       "    }\n",
       "\n",
       "    .dataframe thead th {\n",
       "        text-align: right;\n",
       "    }\n",
       "</style>\n",
       "<table border=\"1\" class=\"dataframe\">\n",
       "  <thead>\n",
       "    <tr style=\"text-align: right;\">\n",
       "      <th></th>\n",
       "      <th>session_dur_hr</th>\n",
       "      <th>session_frequency</th>\n",
       "      <th>session_trfc_mb</th>\n",
       "    </tr>\n",
       "    <tr>\n",
       "      <th>msisdn_number</th>\n",
       "      <th></th>\n",
       "      <th></th>\n",
       "      <th></th>\n",
       "    </tr>\n",
       "  </thead>\n",
       "  <tbody>\n",
       "    <tr>\n",
       "      <th>3.362632e+10</th>\n",
       "      <td>6.688563e+10</td>\n",
       "      <td>1084</td>\n",
       "      <td>514745.010179</td>\n",
       "    </tr>\n",
       "    <tr>\n",
       "      <th>3.365973e+10</th>\n",
       "      <td>2.087582e+09</td>\n",
       "      <td>16</td>\n",
       "      <td>7348.883422</td>\n",
       "    </tr>\n",
       "    <tr>\n",
       "      <th>3.361489e+10</th>\n",
       "      <td>1.933339e+09</td>\n",
       "      <td>17</td>\n",
       "      <td>8436.419004</td>\n",
       "    </tr>\n",
       "    <tr>\n",
       "      <th>3.367588e+10</th>\n",
       "      <td>1.927235e+09</td>\n",
       "      <td>15</td>\n",
       "      <td>7525.549515</td>\n",
       "    </tr>\n",
       "    <tr>\n",
       "      <th>3.362578e+10</th>\n",
       "      <td>1.890414e+09</td>\n",
       "      <td>17</td>\n",
       "      <td>8105.869982</td>\n",
       "    </tr>\n",
       "    <tr>\n",
       "      <th>3.376054e+10</th>\n",
       "      <td>1.851397e+09</td>\n",
       "      <td>15</td>\n",
       "      <td>8120.321239</td>\n",
       "    </tr>\n",
       "    <tr>\n",
       "      <th>3.365936e+10</th>\n",
       "      <td>1.820838e+09</td>\n",
       "      <td>11</td>\n",
       "      <td>4442.631852</td>\n",
       "    </tr>\n",
       "    <tr>\n",
       "      <th>3.366471e+10</th>\n",
       "      <td>1.620076e+09</td>\n",
       "      <td>11</td>\n",
       "      <td>6584.133433</td>\n",
       "    </tr>\n",
       "    <tr>\n",
       "      <th>3.378632e+10</th>\n",
       "      <td>1.573490e+09</td>\n",
       "      <td>12</td>\n",
       "      <td>5361.777810</td>\n",
       "    </tr>\n",
       "    <tr>\n",
       "      <th>3.366716e+10</th>\n",
       "      <td>1.428224e+09</td>\n",
       "      <td>13</td>\n",
       "      <td>5358.118109</td>\n",
       "    </tr>\n",
       "  </tbody>\n",
       "</table>\n",
       "</div>"
      ],
      "text/plain": [
       "               session_dur_hr  session_frequency  session_trfc_mb\n",
       "msisdn_number                                                    \n",
       "3.362632e+10     6.688563e+10               1084    514745.010179\n",
       "3.365973e+10     2.087582e+09                 16      7348.883422\n",
       "3.361489e+10     1.933339e+09                 17      8436.419004\n",
       "3.367588e+10     1.927235e+09                 15      7525.549515\n",
       "3.362578e+10     1.890414e+09                 17      8105.869982\n",
       "3.376054e+10     1.851397e+09                 15      8120.321239\n",
       "3.365936e+10     1.820838e+09                 11      4442.631852\n",
       "3.366471e+10     1.620076e+09                 11      6584.133433\n",
       "3.378632e+10     1.573490e+09                 12      5361.777810\n",
       "3.366716e+10     1.428224e+09                 13      5358.118109"
      ]
     },
     "execution_count": 23,
     "metadata": {},
     "output_type": "execute_result"
    }
   ],
   "source": [
    "top_10_session_dur = aggregated_metrics.sort_values(by='session_dur_hr', ascending=False).head(10)\n",
    "top_10_session_dur"
   ]
  },
  {
   "cell_type": "markdown",
   "id": "c01b604c",
   "metadata": {},
   "source": [
    "**Finding: all the top-10 customer from session duration spends same time on data session**"
   ]
  },
  {
   "cell_type": "code",
   "execution_count": null,
   "id": "4b3bb37b",
   "metadata": {},
   "outputs": [
    {
     "data": {
      "text/html": [
       "<div>\n",
       "<style scoped>\n",
       "    .dataframe tbody tr th:only-of-type {\n",
       "        vertical-align: middle;\n",
       "    }\n",
       "\n",
       "    .dataframe tbody tr th {\n",
       "        vertical-align: top;\n",
       "    }\n",
       "\n",
       "    .dataframe thead th {\n",
       "        text-align: right;\n",
       "    }\n",
       "</style>\n",
       "<table border=\"1\" class=\"dataframe\">\n",
       "  <thead>\n",
       "    <tr style=\"text-align: right;\">\n",
       "      <th></th>\n",
       "      <th>hours</th>\n",
       "      <th>customer counts</th>\n",
       "    </tr>\n",
       "  </thead>\n",
       "  <tbody>\n",
       "    <tr>\n",
       "      <th>0</th>\n",
       "      <td>1.046091e+08</td>\n",
       "      <td>3019</td>\n",
       "    </tr>\n",
       "    <tr>\n",
       "      <th>1</th>\n",
       "      <td>2.092182e+08</td>\n",
       "      <td>149</td>\n",
       "    </tr>\n",
       "    <tr>\n",
       "      <th>2</th>\n",
       "      <td>8.639996e+07</td>\n",
       "      <td>80</td>\n",
       "    </tr>\n",
       "    <tr>\n",
       "      <th>3</th>\n",
       "      <td>8.639996e+07</td>\n",
       "      <td>79</td>\n",
       "    </tr>\n",
       "    <tr>\n",
       "      <th>4</th>\n",
       "      <td>8.639995e+07</td>\n",
       "      <td>78</td>\n",
       "    </tr>\n",
       "    <tr>\n",
       "      <th>...</th>\n",
       "      <td>...</td>\n",
       "      <td>...</td>\n",
       "    </tr>\n",
       "    <tr>\n",
       "      <th>92208</th>\n",
       "      <td>1.476950e+08</td>\n",
       "      <td>1</td>\n",
       "    </tr>\n",
       "    <tr>\n",
       "      <th>92209</th>\n",
       "      <td>2.969783e+08</td>\n",
       "      <td>1</td>\n",
       "    </tr>\n",
       "    <tr>\n",
       "      <th>92210</th>\n",
       "      <td>1.780240e+08</td>\n",
       "      <td>1</td>\n",
       "    </tr>\n",
       "    <tr>\n",
       "      <th>92211</th>\n",
       "      <td>1.388981e+07</td>\n",
       "      <td>1</td>\n",
       "    </tr>\n",
       "    <tr>\n",
       "      <th>92212</th>\n",
       "      <td>1.409887e+08</td>\n",
       "      <td>1</td>\n",
       "    </tr>\n",
       "  </tbody>\n",
       "</table>\n",
       "<p>92213 rows × 2 columns</p>\n",
       "</div>"
      ],
      "text/plain": [
       "              hours  customer counts\n",
       "0      1.046091e+08             3019\n",
       "1      2.092182e+08              149\n",
       "2      8.639996e+07               80\n",
       "3      8.639996e+07               79\n",
       "4      8.639995e+07               78\n",
       "...             ...              ...\n",
       "92208  1.476950e+08                1\n",
       "92209  2.969783e+08                1\n",
       "92210  1.780240e+08                1\n",
       "92211  1.388981e+07                1\n",
       "92212  1.409887e+08                1\n",
       "\n",
       "[92213 rows x 2 columns]"
      ]
     },
     "execution_count": 24,
     "metadata": {},
     "output_type": "execute_result"
    }
   ],
   "source": [
    "sess_dur_counts = aggregated_metrics.session_dur_hr.value_counts().sort_values(ascending=False).reset_index(name='customer counts')\n",
    "sess_dur_counts.rename(columns={\"index\":'hours'}, inplace=True)\n",
    "sess_dur_counts"
   ]
  },
  {
   "cell_type": "markdown",
   "id": "3a71fcd7",
   "metadata": {},
   "source": [
    "**Finding: here we found that there are total-17299 customer who spends 23 hrs on data session**"
   ]
  },
  {
   "cell_type": "markdown",
   "id": "6eb5aaec",
   "metadata": {},
   "source": [
    "# - Top 10 customers per session traffic"
   ]
  },
  {
   "cell_type": "code",
   "execution_count": null,
   "id": "3283ac27",
   "metadata": {},
   "outputs": [
    {
     "data": {
      "text/html": [
       "<div>\n",
       "<style scoped>\n",
       "    .dataframe tbody tr th:only-of-type {\n",
       "        vertical-align: middle;\n",
       "    }\n",
       "\n",
       "    .dataframe tbody tr th {\n",
       "        vertical-align: top;\n",
       "    }\n",
       "\n",
       "    .dataframe thead th {\n",
       "        text-align: right;\n",
       "    }\n",
       "</style>\n",
       "<table border=\"1\" class=\"dataframe\">\n",
       "  <thead>\n",
       "    <tr style=\"text-align: right;\">\n",
       "      <th></th>\n",
       "      <th>session_dur_hr</th>\n",
       "      <th>session_frequency</th>\n",
       "      <th>session_trfc_mb</th>\n",
       "    </tr>\n",
       "    <tr>\n",
       "      <th>msisdn_number</th>\n",
       "      <th></th>\n",
       "      <th></th>\n",
       "      <th></th>\n",
       "    </tr>\n",
       "  </thead>\n",
       "  <tbody>\n",
       "    <tr>\n",
       "      <th>3.362632e+10</th>\n",
       "      <td>6.688563e+10</td>\n",
       "      <td>1084</td>\n",
       "      <td>514745.010179</td>\n",
       "    </tr>\n",
       "    <tr>\n",
       "      <th>3.361489e+10</th>\n",
       "      <td>1.933339e+09</td>\n",
       "      <td>17</td>\n",
       "      <td>8436.419004</td>\n",
       "    </tr>\n",
       "    <tr>\n",
       "      <th>3.376054e+10</th>\n",
       "      <td>1.851397e+09</td>\n",
       "      <td>15</td>\n",
       "      <td>8120.321239</td>\n",
       "    </tr>\n",
       "    <tr>\n",
       "      <th>3.362578e+10</th>\n",
       "      <td>1.890414e+09</td>\n",
       "      <td>17</td>\n",
       "      <td>8105.869982</td>\n",
       "    </tr>\n",
       "    <tr>\n",
       "      <th>3.367588e+10</th>\n",
       "      <td>1.927235e+09</td>\n",
       "      <td>15</td>\n",
       "      <td>7525.549515</td>\n",
       "    </tr>\n",
       "    <tr>\n",
       "      <th>3.365973e+10</th>\n",
       "      <td>2.087582e+09</td>\n",
       "      <td>16</td>\n",
       "      <td>7348.883422</td>\n",
       "    </tr>\n",
       "    <tr>\n",
       "      <th>3.366646e+10</th>\n",
       "      <td>1.332595e+09</td>\n",
       "      <td>11</td>\n",
       "      <td>6969.929636</td>\n",
       "    </tr>\n",
       "    <tr>\n",
       "      <th>3.376041e+10</th>\n",
       "      <td>1.412371e+09</td>\n",
       "      <td>12</td>\n",
       "      <td>6801.958574</td>\n",
       "    </tr>\n",
       "    <tr>\n",
       "      <th>3.366471e+10</th>\n",
       "      <td>1.620076e+09</td>\n",
       "      <td>11</td>\n",
       "      <td>6584.133433</td>\n",
       "    </tr>\n",
       "    <tr>\n",
       "      <th>3.369879e+10</th>\n",
       "      <td>1.234404e+09</td>\n",
       "      <td>11</td>\n",
       "      <td>6237.887503</td>\n",
       "    </tr>\n",
       "  </tbody>\n",
       "</table>\n",
       "</div>"
      ],
      "text/plain": [
       "               session_dur_hr  session_frequency  session_trfc_mb\n",
       "msisdn_number                                                    \n",
       "3.362632e+10     6.688563e+10               1084    514745.010179\n",
       "3.361489e+10     1.933339e+09                 17      8436.419004\n",
       "3.376054e+10     1.851397e+09                 15      8120.321239\n",
       "3.362578e+10     1.890414e+09                 17      8105.869982\n",
       "3.367588e+10     1.927235e+09                 15      7525.549515\n",
       "3.365973e+10     2.087582e+09                 16      7348.883422\n",
       "3.366646e+10     1.332595e+09                 11      6969.929636\n",
       "3.376041e+10     1.412371e+09                 12      6801.958574\n",
       "3.366471e+10     1.620076e+09                 11      6584.133433\n",
       "3.369879e+10     1.234404e+09                 11      6237.887503"
      ]
     },
     "execution_count": 25,
     "metadata": {},
     "output_type": "execute_result"
    }
   ],
   "source": [
    "top_10_session_trfc_mb = aggregated_metrics.sort_values(by='session_trfc_mb', ascending=False).head(10)\n",
    "top_10_session_trfc_mb"
   ]
  },
  {
   "cell_type": "markdown",
   "id": "03f7627b",
   "metadata": {},
   "source": [
    "**from  here we can see that customer having msisdn number '3.362632e+10' has an outsized (outlier) positive difference from the average session traffic of the top ten.**"
   ]
  },
  {
   "cell_type": "code",
   "execution_count": null,
   "id": "94a9a3b7",
   "metadata": {},
   "outputs": [
    {
     "data": {
      "text/html": [
       "<div>\n",
       "<style scoped>\n",
       "    .dataframe tbody tr th:only-of-type {\n",
       "        vertical-align: middle;\n",
       "    }\n",
       "\n",
       "    .dataframe tbody tr th {\n",
       "        vertical-align: top;\n",
       "    }\n",
       "\n",
       "    .dataframe thead th {\n",
       "        text-align: right;\n",
       "    }\n",
       "</style>\n",
       "<table border=\"1\" class=\"dataframe\">\n",
       "  <thead>\n",
       "    <tr style=\"text-align: right;\">\n",
       "      <th></th>\n",
       "      <th>session_frequency</th>\n",
       "      <th>session_trfc_mb</th>\n",
       "    </tr>\n",
       "    <tr>\n",
       "      <th>msisdn_number</th>\n",
       "      <th></th>\n",
       "      <th></th>\n",
       "    </tr>\n",
       "  </thead>\n",
       "  <tbody>\n",
       "    <tr>\n",
       "      <th>3.362632e+10</th>\n",
       "      <td>1084</td>\n",
       "      <td>514745.010179</td>\n",
       "    </tr>\n",
       "    <tr>\n",
       "      <th>3.361489e+10</th>\n",
       "      <td>17</td>\n",
       "      <td>8436.419004</td>\n",
       "    </tr>\n",
       "    <tr>\n",
       "      <th>3.376054e+10</th>\n",
       "      <td>15</td>\n",
       "      <td>8120.321239</td>\n",
       "    </tr>\n",
       "    <tr>\n",
       "      <th>3.362578e+10</th>\n",
       "      <td>17</td>\n",
       "      <td>8105.869982</td>\n",
       "    </tr>\n",
       "    <tr>\n",
       "      <th>3.367588e+10</th>\n",
       "      <td>15</td>\n",
       "      <td>7525.549515</td>\n",
       "    </tr>\n",
       "    <tr>\n",
       "      <th>...</th>\n",
       "      <td>...</td>\n",
       "      <td>...</td>\n",
       "    </tr>\n",
       "    <tr>\n",
       "      <th>3.367548e+10</th>\n",
       "      <td>1</td>\n",
       "      <td>36.260945</td>\n",
       "    </tr>\n",
       "    <tr>\n",
       "      <th>3.378251e+10</th>\n",
       "      <td>1</td>\n",
       "      <td>36.172143</td>\n",
       "    </tr>\n",
       "    <tr>\n",
       "      <th>3.366668e+10</th>\n",
       "      <td>1</td>\n",
       "      <td>32.424568</td>\n",
       "    </tr>\n",
       "    <tr>\n",
       "      <th>3.366132e+10</th>\n",
       "      <td>1</td>\n",
       "      <td>32.020416</td>\n",
       "    </tr>\n",
       "    <tr>\n",
       "      <th>3.365920e+10</th>\n",
       "      <td>1</td>\n",
       "      <td>31.708726</td>\n",
       "    </tr>\n",
       "  </tbody>\n",
       "</table>\n",
       "<p>106856 rows × 2 columns</p>\n",
       "</div>"
      ],
      "text/plain": [
       "               session_frequency  session_trfc_mb\n",
       "msisdn_number                                    \n",
       "3.362632e+10                1084    514745.010179\n",
       "3.361489e+10                  17      8436.419004\n",
       "3.376054e+10                  15      8120.321239\n",
       "3.362578e+10                  17      8105.869982\n",
       "3.367588e+10                  15      7525.549515\n",
       "...                          ...              ...\n",
       "3.367548e+10                   1        36.260945\n",
       "3.378251e+10                   1        36.172143\n",
       "3.366668e+10                   1        32.424568\n",
       "3.366132e+10                   1        32.020416\n",
       "3.365920e+10                   1        31.708726\n",
       "\n",
       "[106856 rows x 2 columns]"
      ]
     },
     "execution_count": 26,
     "metadata": {},
     "output_type": "execute_result"
    }
   ],
   "source": [
    "# to know why let draw a correlation between session frequency and sessio  traffic\n",
    "\n",
    "trfc_frq = aggregated_metrics[['session_frequency','session_trfc_mb']]\n",
    "trfc_frq.sort_values(by='session_trfc_mb',ascending=False)"
   ]
  },
  {
   "cell_type": "code",
   "execution_count": null,
   "id": "e4d8dcb6",
   "metadata": {},
   "outputs": [
    {
     "data": {
      "text/plain": [
       "0.9857997807604783"
      ]
     },
     "execution_count": 27,
     "metadata": {},
     "output_type": "execute_result"
    }
   ],
   "source": [
    "trfc_frq_corr = trfc_frq.corr()\n",
    "trfc_frq_corr.iloc[1,0]"
   ]
  },
  {
   "cell_type": "markdown",
   "id": "e6fe96d3",
   "metadata": {},
   "source": [
    "**Here we can see that there is a strong positive correlation between session frequency and session trfc**"
   ]
  },
  {
   "cell_type": "code",
   "execution_count": null,
   "id": "cba67958",
   "metadata": {},
   "outputs": [
    {
     "data": {
      "image/png": "[encoded data removed]",
      "text/plain": [
       "<Figure size 1500x1000 with 1 Axes>"
      ]
     },
     "metadata": {},
     "output_type": "display_data"
    }
   ],
   "source": [
    "plt.subplots(figsize=(15,10))\n",
    "plt.xticks(rotation=40, fontsize=14)\n",
    "plt.yticks(fontsize=14)\n",
    "plt.xlabel('Session Frequency', fontsize=16)\n",
    "plt.ylabel('Session Traffic', fontsize=16)\n",
    "plt.title('Correlation between Session Traffic & Frequency', fontsize=20)\n",
    "sns.regplot(data=trfc_frq, y='session_trfc_mb', x='session_frequency', scatter=True, color='r')\n",
    "plt.text(500, 400000, s= f'Corr: {trfc_frq_corr.iloc[1,0]}\\nStrong Positive', fontsize=15,\n",
    "         horizontalalignment='right',\n",
    "         bbox=dict(facecolor='w', alpha=0.5),\n",
    "         verticalalignment='top')\n",
    "plt.show()"
   ]
  },
  {
   "cell_type": "code",
   "execution_count": null,
   "id": "e095162a",
   "metadata": {},
   "outputs": [
    {
     "data": {
      "text/html": [
       "<div>\n",
       "<style scoped>\n",
       "    .dataframe tbody tr th:only-of-type {\n",
       "        vertical-align: middle;\n",
       "    }\n",
       "\n",
       "    .dataframe tbody tr th {\n",
       "        vertical-align: top;\n",
       "    }\n",
       "\n",
       "    .dataframe thead th {\n",
       "        text-align: right;\n",
       "    }\n",
       "</style>\n",
       "<table border=\"1\" class=\"dataframe\">\n",
       "  <thead>\n",
       "    <tr style=\"text-align: right;\">\n",
       "      <th></th>\n",
       "      <th>session_dur_hr</th>\n",
       "      <th>session_frequency</th>\n",
       "      <th>session_trfc_mb</th>\n",
       "    </tr>\n",
       "  </thead>\n",
       "  <tbody>\n",
       "    <tr>\n",
       "      <th>session_dur_hr</th>\n",
       "      <td>1.000000</td>\n",
       "      <td>0.948392</td>\n",
       "      <td>0.93475</td>\n",
       "    </tr>\n",
       "    <tr>\n",
       "      <th>session_frequency</th>\n",
       "      <td>0.948392</td>\n",
       "      <td>1.000000</td>\n",
       "      <td>0.98580</td>\n",
       "    </tr>\n",
       "    <tr>\n",
       "      <th>session_trfc_mb</th>\n",
       "      <td>0.934750</td>\n",
       "      <td>0.985800</td>\n",
       "      <td>1.00000</td>\n",
       "    </tr>\n",
       "  </tbody>\n",
       "</table>\n",
       "</div>"
      ],
      "text/plain": [
       "                   session_dur_hr  session_frequency  session_trfc_mb\n",
       "session_dur_hr           1.000000           0.948392          0.93475\n",
       "session_frequency        0.948392           1.000000          0.98580\n",
       "session_trfc_mb          0.934750           0.985800          1.00000"
      ]
     },
     "execution_count": 29,
     "metadata": {},
     "output_type": "execute_result"
    }
   ],
   "source": [
    "#plotting correlation matrix for all metrics\n",
    "\n",
    "agg_metrics_corr = aggregated_metrics.corr()\n",
    "agg_metrics_corr"
   ]
  },
  {
   "cell_type": "code",
   "execution_count": null,
   "id": "f4a856be",
   "metadata": {},
   "outputs": [
    {
     "data": {
      "image/png": "[encoded data removed]",
      "text/plain": [
       "<Figure size 2000x1500 with 2 Axes>"
      ]
     },
     "metadata": {},
     "output_type": "display_data"
    }
   ],
   "source": [
    "plt.subplots(figsize=(20, 15))\n",
    "plt.title('Correlation among Engagement Metrics', fontsize=20)\n",
    "ax = sns.heatmap(\n",
    "    agg_metrics_corr, \n",
    "    vmin=-1, vmax=1, center=0,\n",
    "    cmap=sns.diverging_palette(150, 275, s=80, l=55, n=9),\n",
    "    square=True\n",
    ")\n",
    "ax.set_xticklabels(\n",
    "    ax.get_xticklabels(),\n",
    "    rotation=90,\n",
    "    horizontalalignment='right'\n",
    ");\n",
    "plt.xticks(fontsize=15)\n",
    "plt.yticks(fontsize=15)\n",
    "plt.show()"
   ]
  },
  {
   "cell_type": "markdown",
   "id": "2107955f",
   "metadata": {},
   "source": [
    "##Aggregate user total traffic per application and derive the top 10 most engaged users per application"
   ]
  },
  {
   "cell_type": "code",
   "execution_count": null,
   "id": "75badfee",
   "metadata": {},
   "outputs": [
    {
     "ename": "NameError",
     "evalue": "name 'data' is not defined",
     "output_type": "error",
     "traceback": [
      "\u001b[1;31m---------------------------------------------------------------------------\u001b[0m",
      "\u001b[1;31mNameError\u001b[0m                                 Traceback (most recent call last)",
      "Cell \u001b[1;32mIn[1], line 12\u001b[0m\n\u001b[0;32m      1\u001b[0m columns \u001b[38;5;241m=\u001b[39m [\u001b[38;5;124m'\u001b[39m\u001b[38;5;124mbearer_id\u001b[39m\u001b[38;5;124m'\u001b[39m, \u001b[38;5;124m'\u001b[39m\u001b[38;5;124mmsisdn_number\u001b[39m\u001b[38;5;124m'\u001b[39m,\n\u001b[0;32m      2\u001b[0m            \u001b[38;5;124m'\u001b[39m\u001b[38;5;124mhttp_dl__bytes_\u001b[39m\u001b[38;5;124m'\u001b[39m, \u001b[38;5;124m'\u001b[39m\u001b[38;5;124mhttp_ul__bytes_\u001b[39m\u001b[38;5;124m'\u001b[39m, \u001b[38;5;124m'\u001b[39m\u001b[38;5;124mactivity_duration_dl__ms_\u001b[39m\u001b[38;5;124m'\u001b[39m,\n\u001b[0;32m      3\u001b[0m        \u001b[38;5;124m'\u001b[39m\u001b[38;5;124mactivity_duration_ul__ms_\u001b[39m\u001b[38;5;124m'\u001b[39m, \u001b[38;5;124m'\u001b[39m\u001b[38;5;124mdur___ms__1\u001b[39m\u001b[38;5;124m'\u001b[39m, \n\u001b[1;32m   (...)\u001b[0m\n\u001b[0;32m      8\u001b[0m        \u001b[38;5;124m'\u001b[39m\u001b[38;5;124mgaming_ul__bytes_\u001b[39m\u001b[38;5;124m'\u001b[39m, \u001b[38;5;124m'\u001b[39m\u001b[38;5;124mother_dl__bytes_\u001b[39m\u001b[38;5;124m'\u001b[39m, \u001b[38;5;124m'\u001b[39m\u001b[38;5;124mother_ul__bytes_\u001b[39m\u001b[38;5;124m'\u001b[39m,\n\u001b[0;32m      9\u001b[0m        \u001b[38;5;124m'\u001b[39m\u001b[38;5;124mtotal_ul__bytes_\u001b[39m\u001b[38;5;124m'\u001b[39m, \u001b[38;5;124m'\u001b[39m\u001b[38;5;124mtotal_dl__bytes_\u001b[39m\u001b[38;5;124m'\u001b[39m]\n\u001b[1;32m---> 12\u001b[0m data2 \u001b[38;5;241m=\u001b[39m \u001b[43mdata\u001b[49m[columns]\n",
      "\u001b[1;31mNameError\u001b[0m: name 'data' is not defined"
     ]
    }
   ],
   "source": [
    "columns = ['bearer_id', 'msisdn_number',\n",
    "           'http_dl__bytes_', 'http_ul__bytes_', 'activity_duration_dl__ms_',\n",
    "       'activity_duration_ul__ms_', 'dur___ms__1', \n",
    "          'social_media_dl__bytes_', 'social_media_ul__bytes_',\n",
    "       'google_dl__bytes_', 'google_ul__bytes_', 'email_dl__bytes_',\n",
    "       'email_ul__bytes_', 'youtube_dl__bytes_', 'youtube_ul__bytes_',\n",
    "       'netflix_dl__bytes_', 'netflix_ul__bytes_', 'gaming_dl__bytes_',\n",
    "       'gaming_ul__bytes_', 'other_dl__bytes_', 'other_ul__bytes_',\n",
    "       'total_ul__bytes_', 'total_dl__bytes_']\n",
    "\n",
    "\n",
    "data2 = data[columns]"
   ]
  },
  {
   "cell_type": "markdown",
   "id": "c5e09763",
   "metadata": {},
   "source": [
    "**Finding: from here we can conclude that as the session frequnecy increases, session traffic also increases**"
   ]
  },
  {
   "cell_type": "markdown",
   "id": "eeec330f",
   "metadata": {},
   "source": [
    "# ●\tNormalize each engagement metric and run a k-means (k=3) to classify customers into three groups of engagement. "
   ]
  },
  {
   "cell_type": "code",
   "execution_count": null,
   "id": "e8407a2c",
   "metadata": {},
   "outputs": [
    {
     "data": {
      "text/plain": [
       "Index(['bearer_id', 'start', 'start_ms', 'end', 'end_ms', 'imsi',\n",
       "       'msisdn_number', 'imei', 'last_location_name', 'avg_rtt_dl__ms_',\n",
       "       'avg_rtt_ul__ms_', 'avg_bearer_tp_dl__kbps_', 'avg_bearer_tp_ul__kbps_',\n",
       "       'tcp_dl_retrans__vol__bytes_', 'tcp_ul_retrans__vol__bytes_',\n",
       "       'dl_tp_<_50_kbps__%_', '50_kbps_<_dl_tp_<_250_kbps__%_',\n",
       "       '250_kbps_<_dl_tp_<_1_mbps__%_', 'dl_tp_>_1_mbps__%_',\n",
       "       'ul_tp_<_10_kbps__%_', '10_kbps_<_ul_tp_<_50_kbps__%_',\n",
       "       '50_kbps_<_ul_tp_<_300_kbps__%_', 'ul_tp_>_300_kbps__%_',\n",
       "       'http_dl__bytes_', 'http_ul__bytes_', 'activity_duration_dl__ms_',\n",
       "       'activity_duration_ul__ms_', 'dur___ms__1', 'handset_manufacturer',\n",
       "       'handset_type', 'nb_of_sec_with_125000b_<_vol_dl',\n",
       "       'nb_of_sec_with_1250b_<_vol_ul_<_6250b',\n",
       "       'nb_of_sec_with_31250b_<_vol_dl_<_125000b',\n",
       "       'nb_of_sec_with_37500b_<_vol_ul',\n",
       "       'nb_of_sec_with_6250b_<_vol_dl_<_31250b',\n",
       "       'nb_of_sec_with_6250b_<_vol_ul_<_37500b',\n",
       "       'nb_of_sec_with_vol_dl_<_6250b', 'nb_of_sec_with_vol_ul_<_1250b',\n",
       "       'social_media_dl__bytes_', 'social_media_ul__bytes_',\n",
       "       'google_dl__bytes_', 'google_ul__bytes_', 'email_dl__bytes_',\n",
       "       'email_ul__bytes_', 'youtube_dl__bytes_', 'youtube_ul__bytes_',\n",
       "       'netflix_dl__bytes_', 'netflix_ul__bytes_', 'gaming_dl__bytes_',\n",
       "       'gaming_ul__bytes_', 'other_dl__bytes_', 'other_ul__bytes_',\n",
       "       'total_ul__bytes_', 'total_dl__bytes_', 'total_traffic'],\n",
       "      dtype='object')"
      ]
     },
     "execution_count": 30,
     "metadata": {},
     "output_type": "execute_result"
    }
   ],
   "source": [
    "data.columns"
   ]
  },
  {
   "cell_type": "code",
   "execution_count": null,
   "id": "26ff3f23",
   "metadata": {},
   "outputs": [
    {
     "data": {
      "text/plain": [
       "Index(['session_dur_hr', 'session_frequency', 'session_trfc_mb'], dtype='object')"
      ]
     },
     "execution_count": 31,
     "metadata": {},
     "output_type": "execute_result"
    }
   ],
   "source": [
    "aggregated_metrics.columns"
   ]
  },
  {
   "cell_type": "code",
   "execution_count": null,
   "id": "85c74e12",
   "metadata": {},
   "outputs": [
    {
     "data": {
      "text/html": [
       "<style>#sk-container-id-1 {color: black;background-color: white;}#sk-container-id-1 pre{padding: 0;}#sk-container-id-1 div.sk-toggleable {background-color: white;}#sk-container-id-1 label.sk-toggleable__label {cursor: pointer;display: block;width: 100%;margin-bottom: 0;padding: 0.3em;box-sizing: border-box;text-align: center;}#sk-container-id-1 label.sk-toggleable__label-arrow:before {content: \"▸\";float: left;margin-right: 0.25em;color: #696969;}#sk-container-id-1 label.sk-toggleable__label-arrow:hover:before {color: black;}#sk-container-id-1 div.sk-estimator:hover label.sk-toggleable__label-arrow:before {color: black;}#sk-container-id-1 div.sk-toggleable__content {max-height: 0;max-width: 0;overflow: hidden;text-align: left;background-color: #f0f8ff;}#sk-container-id-1 div.sk-toggleable__content pre {margin: 0.2em;color: black;border-radius: 0.25em;background-color: #f0f8ff;}#sk-container-id-1 input.sk-toggleable__control:checked~div.sk-toggleable__content {max-height: 200px;max-width: 100%;overflow: auto;}#sk-container-id-1 input.sk-toggleable__control:checked~label.sk-toggleable__label-arrow:before {content: \"▾\";}#sk-container-id-1 div.sk-estimator input.sk-toggleable__control:checked~label.sk-toggleable__label {background-color: #d4ebff;}#sk-container-id-1 div.sk-label input.sk-toggleable__control:checked~label.sk-toggleable__label {background-color: #d4ebff;}#sk-container-id-1 input.sk-hidden--visually {border: 0;clip: rect(1px 1px 1px 1px);clip: rect(1px, 1px, 1px, 1px);height: 1px;margin: -1px;overflow: hidden;padding: 0;position: absolute;width: 1px;}#sk-container-id-1 div.sk-estimator {font-family: monospace;background-color: #f0f8ff;border: 1px dotted black;border-radius: 0.25em;box-sizing: border-box;margin-bottom: 0.5em;}#sk-container-id-1 div.sk-estimator:hover {background-color: #d4ebff;}#sk-container-id-1 div.sk-parallel-item::after {content: \"\";width: 100%;border-bottom: 1px solid gray;flex-grow: 1;}#sk-container-id-1 div.sk-label:hover label.sk-toggleable__label {background-color: #d4ebff;}#sk-container-id-1 div.sk-serial::before {content: \"\";position: absolute;border-left: 1px solid gray;box-sizing: border-box;top: 0;bottom: 0;left: 50%;z-index: 0;}#sk-container-id-1 div.sk-serial {display: flex;flex-direction: column;align-items: center;background-color: white;padding-right: 0.2em;padding-left: 0.2em;position: relative;}#sk-container-id-1 div.sk-item {position: relative;z-index: 1;}#sk-container-id-1 div.sk-parallel {display: flex;align-items: stretch;justify-content: center;background-color: white;position: relative;}#sk-container-id-1 div.sk-item::before, #sk-container-id-1 div.sk-parallel-item::before {content: \"\";position: absolute;border-left: 1px solid gray;box-sizing: border-box;top: 0;bottom: 0;left: 50%;z-index: -1;}#sk-container-id-1 div.sk-parallel-item {display: flex;flex-direction: column;z-index: 1;position: relative;background-color: white;}#sk-container-id-1 div.sk-parallel-item:first-child::after {align-self: flex-end;width: 50%;}#sk-container-id-1 div.sk-parallel-item:last-child::after {align-self: flex-start;width: 50%;}#sk-container-id-1 div.sk-parallel-item:only-child::after {width: 0;}#sk-container-id-1 div.sk-dashed-wrapped {border: 1px dashed gray;margin: 0 0.4em 0.5em 0.4em;box-sizing: border-box;padding-bottom: 0.4em;background-color: white;}#sk-container-id-1 div.sk-label label {font-family: monospace;font-weight: bold;display: inline-block;line-height: 1.2em;}#sk-container-id-1 div.sk-label-container {text-align: center;}#sk-container-id-1 div.sk-container {/* jupyter's `normalize.less` sets `[hidden] { display: none; }` but bootstrap.min.css set `[hidden] { display: none !important; }` so we also need the `!important` here to be able to override the default hidden behavior on the sphinx rendered scikit-learn.org. See: https://github.com/scikit-learn/scikit-learn/issues/21755 */display: inline-block !important;position: relative;}#sk-container-id-1 div.sk-text-repr-fallback {display: none;}</style><div id=\"sk-container-id-1\" class=\"sk-top-container\"><div class=\"sk-text-repr-fallback\"><pre>KMeans(n_clusters=3, random_state=0)</pre><b>In a Jupyter environment, please rerun this cell to show the HTML representation or trust the notebook. <br />On GitHub, the HTML representation is unable to render, please try loading this page with nbviewer.org.</b></div><div class=\"sk-container\" hidden><div class=\"sk-item\"><div class=\"sk-estimator sk-toggleable\"><input class=\"sk-toggleable__control sk-hidden--visually\" id=\"sk-estimator-id-1\" type=\"checkbox\" checked><label for=\"sk-estimator-id-1\" class=\"sk-toggleable__label sk-toggleable__label-arrow\">KMeans</label><div class=\"sk-toggleable__content\"><pre>KMeans(n_clusters=3, random_state=0)</pre></div></div></div></div></div>"
      ],
      "text/plain": [
       "KMeans(n_clusters=3, random_state=0)"
      ]
     },
     "execution_count": 32,
     "metadata": {},
     "output_type": "execute_result"
    }
   ],
   "source": [
    "km = KMeans(n_clusters=3, random_state=0)\n",
    "km"
   ]
  },
  {
   "cell_type": "code",
   "execution_count": null,
   "id": "ef24ef38",
   "metadata": {},
   "outputs": [],
   "source": [
    "agg_metrics=  sess_dur.merge(session_frequency,on='msisdn_number').merge(session_trfc, on='msisdn_number')\n",
    "norm_metrics = agg_metrics[['session_dur_hr','session_frequency','session_trfc_mb']]"
   ]
  },
  {
   "cell_type": "code",
   "execution_count": null,
   "id": "eb79eaef",
   "metadata": {},
   "outputs": [
    {
     "data": {
      "text/plain": [
       "array([[1.00000000e+00, 1.00000000e+00, 1.00000000e+00],\n",
       "       [3.11077455e-02, 1.38504155e-02, 1.42160202e-02],\n",
       "       [2.88014349e-02, 1.47737765e-02, 1.63289160e-02],\n",
       "       ...,\n",
       "       [6.87994070e-07, 0.00000000e+00, 4.56824540e-04],\n",
       "       [5.36196369e-08, 0.00000000e+00, 1.19557019e-03],\n",
       "       [0.00000000e+00, 0.00000000e+00, 9.72892910e-04]])"
      ]
     },
     "execution_count": 34,
     "metadata": {},
     "output_type": "execute_result"
    }
   ],
   "source": [
    "scaler = MinMaxScaler()\n",
    "\n",
    "scaled_metrics = scaler.fit_transform(norm_metrics)\n",
    "scaled_metrics\n"
   ]
  },
  {
   "cell_type": "markdown",
   "id": "56d243c3",
   "metadata": {},
   "source": [
    "# Verify minimum & maximum value of all features"
   ]
  },
  {
   "cell_type": "code",
   "execution_count": null,
   "id": "680f4792",
   "metadata": {},
   "outputs": [
    {
     "data": {
      "text/plain": [
       "0.0"
      ]
     },
     "execution_count": 35,
     "metadata": {},
     "output_type": "execute_result"
    }
   ],
   "source": [
    "scaled_metrics.min()"
   ]
  },
  {
   "cell_type": "code",
   "execution_count": null,
   "id": "837f400e",
   "metadata": {},
   "outputs": [
    {
     "data": {
      "text/plain": [
       "1.0000000000000002"
      ]
     },
     "execution_count": 36,
     "metadata": {},
     "output_type": "execute_result"
    }
   ],
   "source": [
    "scaled_metrics.max()"
   ]
  },
  {
   "cell_type": "code",
   "execution_count": null,
   "id": "50c1ffdf",
   "metadata": {},
   "outputs": [
    {
     "name": "stderr",
     "output_type": "stream",
     "text": [
      "C:\\Users\\Lenovo\\anaconda3\\lib\\site-packages\\sklearn\\cluster\\_kmeans.py:870: FutureWarning: The default value of `n_init` will change from 10 to 'auto' in 1.4. Set the value of `n_init` explicitly to suppress the warning\n",
      "  warnings.warn(\n"
     ]
    },
    {
     "data": {
      "text/html": [
       "<style>#sk-container-id-2 {color: black;background-color: white;}#sk-container-id-2 pre{padding: 0;}#sk-container-id-2 div.sk-toggleable {background-color: white;}#sk-container-id-2 label.sk-toggleable__label {cursor: pointer;display: block;width: 100%;margin-bottom: 0;padding: 0.3em;box-sizing: border-box;text-align: center;}#sk-container-id-2 label.sk-toggleable__label-arrow:before {content: \"▸\";float: left;margin-right: 0.25em;color: #696969;}#sk-container-id-2 label.sk-toggleable__label-arrow:hover:before {color: black;}#sk-container-id-2 div.sk-estimator:hover label.sk-toggleable__label-arrow:before {color: black;}#sk-container-id-2 div.sk-toggleable__content {max-height: 0;max-width: 0;overflow: hidden;text-align: left;background-color: #f0f8ff;}#sk-container-id-2 div.sk-toggleable__content pre {margin: 0.2em;color: black;border-radius: 0.25em;background-color: #f0f8ff;}#sk-container-id-2 input.sk-toggleable__control:checked~div.sk-toggleable__content {max-height: 200px;max-width: 100%;overflow: auto;}#sk-container-id-2 input.sk-toggleable__control:checked~label.sk-toggleable__label-arrow:before {content: \"▾\";}#sk-container-id-2 div.sk-estimator input.sk-toggleable__control:checked~label.sk-toggleable__label {background-color: #d4ebff;}#sk-container-id-2 div.sk-label input.sk-toggleable__control:checked~label.sk-toggleable__label {background-color: #d4ebff;}#sk-container-id-2 input.sk-hidden--visually {border: 0;clip: rect(1px 1px 1px 1px);clip: rect(1px, 1px, 1px, 1px);height: 1px;margin: -1px;overflow: hidden;padding: 0;position: absolute;width: 1px;}#sk-container-id-2 div.sk-estimator {font-family: monospace;background-color: #f0f8ff;border: 1px dotted black;border-radius: 0.25em;box-sizing: border-box;margin-bottom: 0.5em;}#sk-container-id-2 div.sk-estimator:hover {background-color: #d4ebff;}#sk-container-id-2 div.sk-parallel-item::after {content: \"\";width: 100%;border-bottom: 1px solid gray;flex-grow: 1;}#sk-container-id-2 div.sk-label:hover label.sk-toggleable__label {background-color: #d4ebff;}#sk-container-id-2 div.sk-serial::before {content: \"\";position: absolute;border-left: 1px solid gray;box-sizing: border-box;top: 0;bottom: 0;left: 50%;z-index: 0;}#sk-container-id-2 div.sk-serial {display: flex;flex-direction: column;align-items: center;background-color: white;padding-right: 0.2em;padding-left: 0.2em;position: relative;}#sk-container-id-2 div.sk-item {position: relative;z-index: 1;}#sk-container-id-2 div.sk-parallel {display: flex;align-items: stretch;justify-content: center;background-color: white;position: relative;}#sk-container-id-2 div.sk-item::before, #sk-container-id-2 div.sk-parallel-item::before {content: \"\";position: absolute;border-left: 1px solid gray;box-sizing: border-box;top: 0;bottom: 0;left: 50%;z-index: -1;}#sk-container-id-2 div.sk-parallel-item {display: flex;flex-direction: column;z-index: 1;position: relative;background-color: white;}#sk-container-id-2 div.sk-parallel-item:first-child::after {align-self: flex-end;width: 50%;}#sk-container-id-2 div.sk-parallel-item:last-child::after {align-self: flex-start;width: 50%;}#sk-container-id-2 div.sk-parallel-item:only-child::after {width: 0;}#sk-container-id-2 div.sk-dashed-wrapped {border: 1px dashed gray;margin: 0 0.4em 0.5em 0.4em;box-sizing: border-box;padding-bottom: 0.4em;background-color: white;}#sk-container-id-2 div.sk-label label {font-family: monospace;font-weight: bold;display: inline-block;line-height: 1.2em;}#sk-container-id-2 div.sk-label-container {text-align: center;}#sk-container-id-2 div.sk-container {/* jupyter's `normalize.less` sets `[hidden] { display: none; }` but bootstrap.min.css set `[hidden] { display: none !important; }` so we also need the `!important` here to be able to override the default hidden behavior on the sphinx rendered scikit-learn.org. See: https://github.com/scikit-learn/scikit-learn/issues/21755 */display: inline-block !important;position: relative;}#sk-container-id-2 div.sk-text-repr-fallback {display: none;}</style><div id=\"sk-container-id-2\" class=\"sk-top-container\"><div class=\"sk-text-repr-fallback\"><pre>KMeans(n_clusters=3, random_state=0)</pre><b>In a Jupyter environment, please rerun this cell to show the HTML representation or trust the notebook. <br />On GitHub, the HTML representation is unable to render, please try loading this page with nbviewer.org.</b></div><div class=\"sk-container\" hidden><div class=\"sk-item\"><div class=\"sk-estimator sk-toggleable\"><input class=\"sk-toggleable__control sk-hidden--visually\" id=\"sk-estimator-id-2\" type=\"checkbox\" checked><label for=\"sk-estimator-id-2\" class=\"sk-toggleable__label sk-toggleable__label-arrow\">KMeans</label><div class=\"sk-toggleable__content\"><pre>KMeans(n_clusters=3, random_state=0)</pre></div></div></div></div></div>"
      ],
      "text/plain": [
       "KMeans(n_clusters=3, random_state=0)"
      ]
     },
     "execution_count": 37,
     "metadata": {},
     "output_type": "execute_result"
    }
   ],
   "source": [
    "km.fit(scaled_metrics)"
   ]
  },
  {
   "cell_type": "code",
   "execution_count": null,
   "id": "658a1830",
   "metadata": {},
   "outputs": [
    {
     "data": {
      "text/plain": [
       "array([[1.40605981e-03, 1.62477475e-04, 1.00952392e-03],\n",
       "       [1.00000000e+00, 1.00000000e+00, 1.00000000e+00],\n",
       "       [4.92308299e-03, 1.81887738e-03, 2.73170965e-03]])"
      ]
     },
     "execution_count": 38,
     "metadata": {},
     "output_type": "execute_result"
    }
   ],
   "source": [
    "# centroid values \n",
    "\n",
    "metrics_cluster = km.cluster_centers_\n",
    "metrics_cluster"
   ]
  },
  {
   "cell_type": "code",
   "execution_count": null,
   "id": "0d617428",
   "metadata": {},
   "outputs": [
    {
     "data": {
      "text/html": [
       "<div>\n",
       "<style scoped>\n",
       "    .dataframe tbody tr th:only-of-type {\n",
       "        vertical-align: middle;\n",
       "    }\n",
       "\n",
       "    .dataframe tbody tr th {\n",
       "        vertical-align: top;\n",
       "    }\n",
       "\n",
       "    .dataframe thead th {\n",
       "        text-align: right;\n",
       "    }\n",
       "</style>\n",
       "<table border=\"1\" class=\"dataframe\">\n",
       "  <thead>\n",
       "    <tr style=\"text-align: right;\">\n",
       "      <th></th>\n",
       "      <th>0</th>\n",
       "      <th>1</th>\n",
       "      <th>2</th>\n",
       "    </tr>\n",
       "  </thead>\n",
       "  <tbody>\n",
       "    <tr>\n",
       "      <th>0</th>\n",
       "      <td>0.001406</td>\n",
       "      <td>0.000162</td>\n",
       "      <td>0.001010</td>\n",
       "    </tr>\n",
       "    <tr>\n",
       "      <th>1</th>\n",
       "      <td>1.000000</td>\n",
       "      <td>1.000000</td>\n",
       "      <td>1.000000</td>\n",
       "    </tr>\n",
       "    <tr>\n",
       "      <th>2</th>\n",
       "      <td>0.004923</td>\n",
       "      <td>0.001819</td>\n",
       "      <td>0.002732</td>\n",
       "    </tr>\n",
       "  </tbody>\n",
       "</table>\n",
       "</div>"
      ],
      "text/plain": [
       "          0         1         2\n",
       "0  0.001406  0.000162  0.001010\n",
       "1  1.000000  1.000000  1.000000\n",
       "2  0.004923  0.001819  0.002732"
      ]
     },
     "execution_count": 39,
     "metadata": {},
     "output_type": "execute_result"
    }
   ],
   "source": [
    "eng_centroids = pd.DataFrame(metrics_cluster)\n",
    "eng_centroids"
   ]
  },
  {
   "cell_type": "code",
   "execution_count": null,
   "id": "6001d912",
   "metadata": {},
   "outputs": [],
   "source": [
    "eng_centroids.to_csv('engagement_centroids.csv')"
   ]
  },
  {
   "cell_type": "markdown",
   "id": "190fc1c6",
   "metadata": {},
   "source": [
    "#  Labels\n",
    "\n",
    "- assign labels to users"
   ]
  },
  {
   "cell_type": "code",
   "execution_count": null,
   "id": "7642754f",
   "metadata": {},
   "outputs": [
    {
     "data": {
      "text/plain": [
       "{0, 1, 2}"
      ]
     },
     "execution_count": 39,
     "metadata": {},
     "output_type": "execute_result"
    }
   ],
   "source": [
    "set(km.labels_.tolist())"
   ]
  },
  {
   "cell_type": "code",
   "execution_count": null,
   "id": "20399eb3",
   "metadata": {},
   "outputs": [],
   "source": [
    "norm_metrics['clusters'] = km.labels_"
   ]
  },
  {
   "cell_type": "code",
   "execution_count": null,
   "id": "8631c289",
   "metadata": {},
   "outputs": [
    {
     "data": {
      "text/html": [
       "<div>\n",
       "<style scoped>\n",
       "    .dataframe tbody tr th:only-of-type {\n",
       "        vertical-align: middle;\n",
       "    }\n",
       "\n",
       "    .dataframe tbody tr th {\n",
       "        vertical-align: top;\n",
       "    }\n",
       "\n",
       "    .dataframe thead th {\n",
       "        text-align: right;\n",
       "    }\n",
       "</style>\n",
       "<table border=\"1\" class=\"dataframe\">\n",
       "  <thead>\n",
       "    <tr style=\"text-align: right;\">\n",
       "      <th></th>\n",
       "      <th>session_dur_hr</th>\n",
       "      <th>session_frequency</th>\n",
       "      <th>session_trfc_mb</th>\n",
       "      <th>clusters</th>\n",
       "    </tr>\n",
       "  </thead>\n",
       "  <tbody>\n",
       "    <tr>\n",
       "      <th>0</th>\n",
       "      <td>3</td>\n",
       "      <td>1084</td>\n",
       "      <td>514745.010179</td>\n",
       "      <td>1</td>\n",
       "    </tr>\n",
       "    <tr>\n",
       "      <th>1</th>\n",
       "      <td>3</td>\n",
       "      <td>16</td>\n",
       "      <td>7348.883422</td>\n",
       "      <td>1</td>\n",
       "    </tr>\n",
       "    <tr>\n",
       "      <th>2</th>\n",
       "      <td>9</td>\n",
       "      <td>17</td>\n",
       "      <td>8436.419004</td>\n",
       "      <td>0</td>\n",
       "    </tr>\n",
       "    <tr>\n",
       "      <th>3</th>\n",
       "      <td>7</td>\n",
       "      <td>15</td>\n",
       "      <td>7525.549515</td>\n",
       "      <td>1</td>\n",
       "    </tr>\n",
       "    <tr>\n",
       "      <th>4</th>\n",
       "      <td>21</td>\n",
       "      <td>17</td>\n",
       "      <td>8105.869982</td>\n",
       "      <td>2</td>\n",
       "    </tr>\n",
       "    <tr>\n",
       "      <th>...</th>\n",
       "      <td>...</td>\n",
       "      <td>...</td>\n",
       "      <td>...</td>\n",
       "      <td>...</td>\n",
       "    </tr>\n",
       "    <tr>\n",
       "      <th>106851</th>\n",
       "      <td>2</td>\n",
       "      <td>1</td>\n",
       "      <td>199.216558</td>\n",
       "      <td>1</td>\n",
       "    </tr>\n",
       "    <tr>\n",
       "      <th>106852</th>\n",
       "      <td>2</td>\n",
       "      <td>1</td>\n",
       "      <td>797.900773</td>\n",
       "      <td>1</td>\n",
       "    </tr>\n",
       "    <tr>\n",
       "      <th>106853</th>\n",
       "      <td>1</td>\n",
       "      <td>1</td>\n",
       "      <td>266.842393</td>\n",
       "      <td>1</td>\n",
       "    </tr>\n",
       "    <tr>\n",
       "      <th>106854</th>\n",
       "      <td>1</td>\n",
       "      <td>1</td>\n",
       "      <td>647.084608</td>\n",
       "      <td>1</td>\n",
       "    </tr>\n",
       "    <tr>\n",
       "      <th>106855</th>\n",
       "      <td>1</td>\n",
       "      <td>1</td>\n",
       "      <td>532.469647</td>\n",
       "      <td>1</td>\n",
       "    </tr>\n",
       "  </tbody>\n",
       "</table>\n",
       "<p>106856 rows × 4 columns</p>\n",
       "</div>"
      ],
      "text/plain": [
       "        session_dur_hr  session_frequency  session_trfc_mb  clusters\n",
       "0                    3               1084    514745.010179         1\n",
       "1                    3                 16      7348.883422         1\n",
       "2                    9                 17      8436.419004         0\n",
       "3                    7                 15      7525.549515         1\n",
       "4                   21                 17      8105.869982         2\n",
       "...                ...                ...              ...       ...\n",
       "106851               2                  1       199.216558         1\n",
       "106852               2                  1       797.900773         1\n",
       "106853               1                  1       266.842393         1\n",
       "106854               1                  1       647.084608         1\n",
       "106855               1                  1       532.469647         1\n",
       "\n",
       "[106856 rows x 4 columns]"
      ]
     },
     "execution_count": 41,
     "metadata": {},
     "output_type": "execute_result"
    }
   ],
   "source": [
    "norm_metrics\n"
   ]
  },
  {
   "cell_type": "code",
   "execution_count": null,
   "id": "07fc29e5",
   "metadata": {},
   "outputs": [
    {
     "data": {
      "text/html": [
       "<div>\n",
       "<style scoped>\n",
       "    .dataframe tbody tr th:only-of-type {\n",
       "        vertical-align: middle;\n",
       "    }\n",
       "\n",
       "    .dataframe tbody tr th {\n",
       "        vertical-align: top;\n",
       "    }\n",
       "\n",
       "    .dataframe thead th {\n",
       "        text-align: right;\n",
       "    }\n",
       "</style>\n",
       "<table border=\"1\" class=\"dataframe\">\n",
       "  <thead>\n",
       "    <tr style=\"text-align: right;\">\n",
       "      <th></th>\n",
       "      <th>msisdn_number</th>\n",
       "      <th>session_dur_hr</th>\n",
       "      <th>session_frequency</th>\n",
       "      <th>session_trfc_mb</th>\n",
       "    </tr>\n",
       "  </thead>\n",
       "  <tbody>\n",
       "    <tr>\n",
       "      <th>0</th>\n",
       "      <td>3.362632e+10</td>\n",
       "      <td>3</td>\n",
       "      <td>1084</td>\n",
       "      <td>514745.010179</td>\n",
       "    </tr>\n",
       "    <tr>\n",
       "      <th>1</th>\n",
       "      <td>3.365973e+10</td>\n",
       "      <td>3</td>\n",
       "      <td>16</td>\n",
       "      <td>7348.883422</td>\n",
       "    </tr>\n",
       "    <tr>\n",
       "      <th>2</th>\n",
       "      <td>3.361489e+10</td>\n",
       "      <td>9</td>\n",
       "      <td>17</td>\n",
       "      <td>8436.419004</td>\n",
       "    </tr>\n",
       "    <tr>\n",
       "      <th>3</th>\n",
       "      <td>3.367588e+10</td>\n",
       "      <td>7</td>\n",
       "      <td>15</td>\n",
       "      <td>7525.549515</td>\n",
       "    </tr>\n",
       "    <tr>\n",
       "      <th>4</th>\n",
       "      <td>3.362578e+10</td>\n",
       "      <td>21</td>\n",
       "      <td>17</td>\n",
       "      <td>8105.869982</td>\n",
       "    </tr>\n",
       "    <tr>\n",
       "      <th>...</th>\n",
       "      <td>...</td>\n",
       "      <td>...</td>\n",
       "      <td>...</td>\n",
       "      <td>...</td>\n",
       "    </tr>\n",
       "    <tr>\n",
       "      <th>106851</th>\n",
       "      <td>3.365043e+10</td>\n",
       "      <td>2</td>\n",
       "      <td>1</td>\n",
       "      <td>199.216558</td>\n",
       "    </tr>\n",
       "    <tr>\n",
       "      <th>106852</th>\n",
       "      <td>3.369839e+10</td>\n",
       "      <td>2</td>\n",
       "      <td>1</td>\n",
       "      <td>797.900773</td>\n",
       "    </tr>\n",
       "    <tr>\n",
       "      <th>106853</th>\n",
       "      <td>3.365933e+10</td>\n",
       "      <td>1</td>\n",
       "      <td>1</td>\n",
       "      <td>266.842393</td>\n",
       "    </tr>\n",
       "    <tr>\n",
       "      <th>106854</th>\n",
       "      <td>3.366566e+10</td>\n",
       "      <td>1</td>\n",
       "      <td>1</td>\n",
       "      <td>647.084608</td>\n",
       "    </tr>\n",
       "    <tr>\n",
       "      <th>106855</th>\n",
       "      <td>3.376351e+10</td>\n",
       "      <td>1</td>\n",
       "      <td>1</td>\n",
       "      <td>532.469647</td>\n",
       "    </tr>\n",
       "  </tbody>\n",
       "</table>\n",
       "<p>106856 rows × 4 columns</p>\n",
       "</div>"
      ],
      "text/plain": [
       "        msisdn_number  session_dur_hr  session_frequency  session_trfc_mb\n",
       "0        3.362632e+10               3               1084    514745.010179\n",
       "1        3.365973e+10               3                 16      7348.883422\n",
       "2        3.361489e+10               9                 17      8436.419004\n",
       "3        3.367588e+10               7                 15      7525.549515\n",
       "4        3.362578e+10              21                 17      8105.869982\n",
       "...               ...             ...                ...              ...\n",
       "106851   3.365043e+10               2                  1       199.216558\n",
       "106852   3.369839e+10               2                  1       797.900773\n",
       "106853   3.365933e+10               1                  1       266.842393\n",
       "106854   3.366566e+10               1                  1       647.084608\n",
       "106855   3.376351e+10               1                  1       532.469647\n",
       "\n",
       "[106856 rows x 4 columns]"
      ]
     },
     "execution_count": 42,
     "metadata": {},
     "output_type": "execute_result"
    }
   ],
   "source": [
    "agg_metrics = sess_dur.merge(session_frequency,on='msisdn_number').merge(session_trfc, on='msisdn_number')\n",
    "agg_metrics"
   ]
  },
  {
   "cell_type": "code",
   "execution_count": null,
   "id": "4191f57c",
   "metadata": {},
   "outputs": [],
   "source": [
    "engagement_cluster = norm_metrics.merge(agg_metrics.msisdn_number, \n",
    "                                        left_index=True, right_index=True)"
   ]
  },
  {
   "cell_type": "code",
   "execution_count": null,
   "id": "72441528",
   "metadata": {},
   "outputs": [
    {
     "data": {
      "text/html": [
       "<div>\n",
       "<style scoped>\n",
       "    .dataframe tbody tr th:only-of-type {\n",
       "        vertical-align: middle;\n",
       "    }\n",
       "\n",
       "    .dataframe tbody tr th {\n",
       "        vertical-align: top;\n",
       "    }\n",
       "\n",
       "    .dataframe thead th {\n",
       "        text-align: right;\n",
       "    }\n",
       "</style>\n",
       "<table border=\"1\" class=\"dataframe\">\n",
       "  <thead>\n",
       "    <tr style=\"text-align: right;\">\n",
       "      <th></th>\n",
       "      <th>session_dur_hr</th>\n",
       "      <th>session_frequency</th>\n",
       "      <th>session_trfc_mb</th>\n",
       "      <th>clusters</th>\n",
       "      <th>users</th>\n",
       "    </tr>\n",
       "  </thead>\n",
       "  <tbody>\n",
       "    <tr>\n",
       "      <th>0</th>\n",
       "      <td>3</td>\n",
       "      <td>1084</td>\n",
       "      <td>514745.010179</td>\n",
       "      <td>1</td>\n",
       "      <td>3.362632e+10</td>\n",
       "    </tr>\n",
       "    <tr>\n",
       "      <th>1</th>\n",
       "      <td>3</td>\n",
       "      <td>16</td>\n",
       "      <td>7348.883422</td>\n",
       "      <td>1</td>\n",
       "      <td>3.365973e+10</td>\n",
       "    </tr>\n",
       "    <tr>\n",
       "      <th>2</th>\n",
       "      <td>9</td>\n",
       "      <td>17</td>\n",
       "      <td>8436.419004</td>\n",
       "      <td>0</td>\n",
       "      <td>3.361489e+10</td>\n",
       "    </tr>\n",
       "    <tr>\n",
       "      <th>3</th>\n",
       "      <td>7</td>\n",
       "      <td>15</td>\n",
       "      <td>7525.549515</td>\n",
       "      <td>1</td>\n",
       "      <td>3.367588e+10</td>\n",
       "    </tr>\n",
       "    <tr>\n",
       "      <th>4</th>\n",
       "      <td>21</td>\n",
       "      <td>17</td>\n",
       "      <td>8105.869982</td>\n",
       "      <td>2</td>\n",
       "      <td>3.362578e+10</td>\n",
       "    </tr>\n",
       "    <tr>\n",
       "      <th>...</th>\n",
       "      <td>...</td>\n",
       "      <td>...</td>\n",
       "      <td>...</td>\n",
       "      <td>...</td>\n",
       "      <td>...</td>\n",
       "    </tr>\n",
       "    <tr>\n",
       "      <th>106851</th>\n",
       "      <td>2</td>\n",
       "      <td>1</td>\n",
       "      <td>199.216558</td>\n",
       "      <td>1</td>\n",
       "      <td>3.365043e+10</td>\n",
       "    </tr>\n",
       "    <tr>\n",
       "      <th>106852</th>\n",
       "      <td>2</td>\n",
       "      <td>1</td>\n",
       "      <td>797.900773</td>\n",
       "      <td>1</td>\n",
       "      <td>3.369839e+10</td>\n",
       "    </tr>\n",
       "    <tr>\n",
       "      <th>106853</th>\n",
       "      <td>1</td>\n",
       "      <td>1</td>\n",
       "      <td>266.842393</td>\n",
       "      <td>1</td>\n",
       "      <td>3.365933e+10</td>\n",
       "    </tr>\n",
       "    <tr>\n",
       "      <th>106854</th>\n",
       "      <td>1</td>\n",
       "      <td>1</td>\n",
       "      <td>647.084608</td>\n",
       "      <td>1</td>\n",
       "      <td>3.366566e+10</td>\n",
       "    </tr>\n",
       "    <tr>\n",
       "      <th>106855</th>\n",
       "      <td>1</td>\n",
       "      <td>1</td>\n",
       "      <td>532.469647</td>\n",
       "      <td>1</td>\n",
       "      <td>3.376351e+10</td>\n",
       "    </tr>\n",
       "  </tbody>\n",
       "</table>\n",
       "<p>106856 rows × 5 columns</p>\n",
       "</div>"
      ],
      "text/plain": [
       "        session_dur_hr  session_frequency  session_trfc_mb  clusters  \\\n",
       "0                    3               1084    514745.010179         1   \n",
       "1                    3                 16      7348.883422         1   \n",
       "2                    9                 17      8436.419004         0   \n",
       "3                    7                 15      7525.549515         1   \n",
       "4                   21                 17      8105.869982         2   \n",
       "...                ...                ...              ...       ...   \n",
       "106851               2                  1       199.216558         1   \n",
       "106852               2                  1       797.900773         1   \n",
       "106853               1                  1       266.842393         1   \n",
       "106854               1                  1       647.084608         1   \n",
       "106855               1                  1       532.469647         1   \n",
       "\n",
       "               users  \n",
       "0       3.362632e+10  \n",
       "1       3.365973e+10  \n",
       "2       3.361489e+10  \n",
       "3       3.367588e+10  \n",
       "4       3.362578e+10  \n",
       "...              ...  \n",
       "106851  3.365043e+10  \n",
       "106852  3.369839e+10  \n",
       "106853  3.365933e+10  \n",
       "106854  3.366566e+10  \n",
       "106855  3.376351e+10  \n",
       "\n",
       "[106856 rows x 5 columns]"
      ]
     },
     "execution_count": 44,
     "metadata": {},
     "output_type": "execute_result"
    }
   ],
   "source": [
    "engagement_cluster.rename(columns={'msisdn_number':'users'}, inplace=True)\n",
    "engagement_cluster"
   ]
  },
  {
   "cell_type": "code",
   "execution_count": null,
   "id": "47724ecf",
   "metadata": {},
   "outputs": [],
   "source": [
    "engagement_cluster.to_csv('engagement_cluster.csv')"
   ]
  },
  {
   "cell_type": "markdown",
   "id": "bc5afd5d",
   "metadata": {},
   "source": [
    "# Compute the minimum, maximum, average & total non-normalized metrics for each cluster.                        \n",
    "\n",
    "         - "
   ]
  },
  {
   "cell_type": "code",
   "execution_count": null,
   "id": "33e205e0",
   "metadata": {},
   "outputs": [],
   "source": [
    "session_dur = norm_metrics.groupby('clusters')['session_dur_hr'].aggregate(['min', 'max', 'mean', 'sum']).reset_index(drop=True)"
   ]
  },
  {
   "cell_type": "code",
   "execution_count": null,
   "id": "3966f736",
   "metadata": {},
   "outputs": [
    {
     "name": "stderr",
     "output_type": "stream",
     "text": [
      "C:\\Users\\Lenovo\\anaconda3\\lib\\site-packages\\pandas\\core\\arraylike.py:402: RuntimeWarning: divide by zero encountered in log\n",
      "  result = getattr(ufunc, method)(*inputs, **kwargs)\n"
     ]
    },
    {
     "data": {
      "text/html": [
       "<div>\n",
       "<style scoped>\n",
       "    .dataframe tbody tr th:only-of-type {\n",
       "        vertical-align: middle;\n",
       "    }\n",
       "\n",
       "    .dataframe tbody tr th {\n",
       "        vertical-align: top;\n",
       "    }\n",
       "\n",
       "    .dataframe thead th {\n",
       "        text-align: right;\n",
       "    }\n",
       "</style>\n",
       "<table border=\"1\" class=\"dataframe\">\n",
       "  <thead>\n",
       "    <tr style=\"text-align: right;\">\n",
       "      <th></th>\n",
       "      <th>min</th>\n",
       "      <th>max</th>\n",
       "      <th>mean</th>\n",
       "      <th>sum</th>\n",
       "    </tr>\n",
       "  </thead>\n",
       "  <tbody>\n",
       "    <tr>\n",
       "      <th>2</th>\n",
       "      <td>2.833213</td>\n",
       "      <td>3.135494</td>\n",
       "      <td>3.057153</td>\n",
       "      <td>13.508039</td>\n",
       "    </tr>\n",
       "    <tr>\n",
       "      <th>0</th>\n",
       "      <td>2.079442</td>\n",
       "      <td>2.772589</td>\n",
       "      <td>2.465429</td>\n",
       "      <td>12.839733</td>\n",
       "    </tr>\n",
       "    <tr>\n",
       "      <th>1</th>\n",
       "      <td>-inf</td>\n",
       "      <td>1.945910</td>\n",
       "      <td>1.236834</td>\n",
       "      <td>11.839823</td>\n",
       "    </tr>\n",
       "  </tbody>\n",
       "</table>\n",
       "</div>"
      ],
      "text/plain": [
       "        min       max      mean        sum\n",
       "2  2.833213  3.135494  3.057153  13.508039\n",
       "0  2.079442  2.772589  2.465429  12.839733\n",
       "1      -inf  1.945910  1.236834  11.839823"
      ]
     },
     "execution_count": 47,
     "metadata": {},
     "output_type": "execute_result"
    }
   ],
   "source": [
    "session_dur = session_dur.apply(lambda x: np.log(x)).sort_values(by='sum', ascending=False)\n",
    "session_dur\n"
   ]
  },
  {
   "cell_type": "code",
   "execution_count": null,
   "id": "33e269f6",
   "metadata": {},
   "outputs": [
    {
     "data": {
      "text/plain": [
       "<Figure size 3000x4000 with 0 Axes>"
      ]
     },
     "metadata": {},
     "output_type": "display_data"
    },
    {
     "data": {
      "image/png": "[encoded data removed]",
      "text/plain": [
       "<Figure size 2000x1000 with 1 Axes>"
      ]
     },
     "metadata": {},
     "output_type": "display_data"
    }
   ],
   "source": [
    "plt.figure(figsize=(30,40))\n",
    "# topAppsAggLog.plot(figsize=(5,5));\n",
    "ax= session_dur.plot.bar(figsize=(20,10))\n",
    "ax.set_xticklabels(\n",
    "    ax.get_xticklabels(),\n",
    "    rotation=0, \n",
    "    horizontalalignment='right'\n",
    ")\n",
    "plt.title(\"Clusters Session Duration\", fontsize=18)\n",
    "plt.xticks(fontsize=16, rotation =0)\n",
    "plt.yticks(fontsize=16) \n",
    "plt.xlabel('Clusters', fontsize=18)\n",
    "plt.ylabel('Measure', fontsize=18)\n",
    "plt.show()"
   ]
  },
  {
   "cell_type": "markdown",
   "id": "2301d4dc",
   "metadata": {},
   "source": [
    " > Customers in cluster 2 have better engagement in session duration on average than others while customer in cluster 1 have the lowest\n",
    " > ALso customers with low engagement falls under cluster-2"
   ]
  },
  {
   "cell_type": "markdown",
   "id": "2f178a9f",
   "metadata": {},
   "source": [
    "# Session Frequency"
   ]
  },
  {
   "cell_type": "code",
   "execution_count": null,
   "id": "7a7da081",
   "metadata": {},
   "outputs": [],
   "source": [
    "session_frq = norm_metrics.groupby('clusters')['session_frequency'].aggregate(['min', 'max', 'mean', 'sum']).reset_index(drop=True)"
   ]
  },
  {
   "cell_type": "code",
   "execution_count": null,
   "id": "2ad83830",
   "metadata": {},
   "outputs": [],
   "source": [
    "session_frq = session_frq.apply(lambda x: np.log(x)).sort_values(by='sum', ascending=False)"
   ]
  },
  {
   "cell_type": "code",
   "execution_count": null,
   "id": "17539946",
   "metadata": {},
   "outputs": [
    {
     "data": {
      "text/html": [
       "<div>\n",
       "<style scoped>\n",
       "    .dataframe tbody tr th:only-of-type {\n",
       "        vertical-align: middle;\n",
       "    }\n",
       "\n",
       "    .dataframe tbody tr th {\n",
       "        vertical-align: top;\n",
       "    }\n",
       "\n",
       "    .dataframe thead th {\n",
       "        text-align: right;\n",
       "    }\n",
       "</style>\n",
       "<table border=\"1\" class=\"dataframe\">\n",
       "  <thead>\n",
       "    <tr style=\"text-align: right;\">\n",
       "      <th></th>\n",
       "      <th>min</th>\n",
       "      <th>max</th>\n",
       "      <th>mean</th>\n",
       "      <th>sum</th>\n",
       "    </tr>\n",
       "  </thead>\n",
       "  <tbody>\n",
       "    <tr>\n",
       "      <th>1</th>\n",
       "      <td>0.0</td>\n",
       "      <td>6.988413</td>\n",
       "      <td>0.307233</td>\n",
       "      <td>10.910222</td>\n",
       "    </tr>\n",
       "    <tr>\n",
       "      <th>2</th>\n",
       "      <td>0.0</td>\n",
       "      <td>2.833213</td>\n",
       "      <td>0.385631</td>\n",
       "      <td>10.836517</td>\n",
       "    </tr>\n",
       "    <tr>\n",
       "      <th>0</th>\n",
       "      <td>0.0</td>\n",
       "      <td>2.833213</td>\n",
       "      <td>0.327232</td>\n",
       "      <td>10.701535</td>\n",
       "    </tr>\n",
       "  </tbody>\n",
       "</table>\n",
       "</div>"
      ],
      "text/plain": [
       "   min       max      mean        sum\n",
       "1  0.0  6.988413  0.307233  10.910222\n",
       "2  0.0  2.833213  0.385631  10.836517\n",
       "0  0.0  2.833213  0.327232  10.701535"
      ]
     },
     "execution_count": 51,
     "metadata": {},
     "output_type": "execute_result"
    }
   ],
   "source": [
    "session_frq\n"
   ]
  },
  {
   "cell_type": "markdown",
   "id": "69ff9233",
   "metadata": {},
   "source": [
    "\n",
    "> Customers in cluster 2 have better engagement in session frequency on average than others while customer in cluster 1 have the lowest\n",
    "\n",
    " > However, customers in cluster 2 have the maximum number of session frequency"
   ]
  },
  {
   "cell_type": "markdown",
   "id": "689a69ad",
   "metadata": {},
   "source": [
    "# Total Session Traffic"
   ]
  },
  {
   "cell_type": "code",
   "execution_count": null,
   "id": "cf839a1a",
   "metadata": {},
   "outputs": [
    {
     "data": {
      "text/html": [
       "<div>\n",
       "<style scoped>\n",
       "    .dataframe tbody tr th:only-of-type {\n",
       "        vertical-align: middle;\n",
       "    }\n",
       "\n",
       "    .dataframe tbody tr th {\n",
       "        vertical-align: top;\n",
       "    }\n",
       "\n",
       "    .dataframe thead th {\n",
       "        text-align: right;\n",
       "    }\n",
       "</style>\n",
       "<table border=\"1\" class=\"dataframe\">\n",
       "  <thead>\n",
       "    <tr style=\"text-align: right;\">\n",
       "      <th></th>\n",
       "      <th>min</th>\n",
       "      <th>max</th>\n",
       "      <th>mean</th>\n",
       "      <th>sum</th>\n",
       "    </tr>\n",
       "  </thead>\n",
       "  <tbody>\n",
       "    <tr>\n",
       "      <th>1</th>\n",
       "      <td>3.478916</td>\n",
       "      <td>13.151427</td>\n",
       "      <td>6.465546</td>\n",
       "      <td>17.068536</td>\n",
       "    </tr>\n",
       "    <tr>\n",
       "      <th>2</th>\n",
       "      <td>3.466374</td>\n",
       "      <td>9.000344</td>\n",
       "      <td>6.545039</td>\n",
       "      <td>16.995926</td>\n",
       "    </tr>\n",
       "    <tr>\n",
       "      <th>0</th>\n",
       "      <td>3.456592</td>\n",
       "      <td>9.040313</td>\n",
       "      <td>6.485479</td>\n",
       "      <td>16.859783</td>\n",
       "    </tr>\n",
       "  </tbody>\n",
       "</table>\n",
       "</div>"
      ],
      "text/plain": [
       "        min        max      mean        sum\n",
       "1  3.478916  13.151427  6.465546  17.068536\n",
       "2  3.466374   9.000344  6.545039  16.995926\n",
       "0  3.456592   9.040313  6.485479  16.859783"
      ]
     },
     "execution_count": 53,
     "metadata": {},
     "output_type": "execute_result"
    }
   ],
   "source": [
    "session_trfc = norm_metrics.groupby('clusters')['session_trfc_mb'].aggregate(['min', 'max', 'mean', 'sum']).reset_index(drop=True)\n",
    "session_trfc = session_trfc.apply(lambda x: np.log(x)).sort_values(by='sum', ascending=False)\n",
    "session_trfc\n"
   ]
  },
  {
   "cell_type": "markdown",
   "id": "76dc7d96",
   "metadata": {},
   "source": [
    "> Customers in cluster 2 have better engagement in total session traffic on average than others while customer in cluster 1 have the lowest\n",
    "\n",
    "> Also cluster 1 has the maximum number of total session traffic - This is a trend with cluster 2"
   ]
  },
  {
   "cell_type": "code",
   "execution_count": null,
   "id": "b386292c",
   "metadata": {},
   "outputs": [],
   "source": [
    "# using elbow method to find the optimised value of k"
   ]
  },
  {
   "cell_type": "code",
   "execution_count": null,
   "id": "b290b21d",
   "metadata": {},
   "outputs": [
    {
     "data": {
      "text/plain": [
       "array([[1.30434783e-01, 1.00000000e+00, 1.00000000e+00],\n",
       "       [1.30434783e-01, 1.38504155e-02, 1.42160202e-02],\n",
       "       [3.91304348e-01, 1.47737765e-02, 1.63289160e-02],\n",
       "       ...,\n",
       "       [4.34782609e-02, 0.00000000e+00, 4.56824540e-04],\n",
       "       [4.34782609e-02, 0.00000000e+00, 1.19557019e-03],\n",
       "       [4.34782609e-02, 0.00000000e+00, 9.72892910e-04]])"
      ]
     },
     "execution_count": 54,
     "metadata": {},
     "output_type": "execute_result"
    }
   ],
   "source": [
    "scaled_metrics"
   ]
  },
  {
   "cell_type": "code",
   "execution_count": null,
   "id": "50eb1224",
   "metadata": {},
   "outputs": [
    {
     "name": "stderr",
     "output_type": "stream",
     "text": [
      "C:\\Users\\Lenovo\\anaconda3\\lib\\site-packages\\sklearn\\cluster\\_kmeans.py:870: FutureWarning: The default value of `n_init` will change from 10 to 'auto' in 1.4. Set the value of `n_init` explicitly to suppress the warning\n",
      "  warnings.warn(\n",
      "C:\\Users\\Lenovo\\anaconda3\\lib\\site-packages\\sklearn\\cluster\\_kmeans.py:870: FutureWarning: The default value of `n_init` will change from 10 to 'auto' in 1.4. Set the value of `n_init` explicitly to suppress the warning\n",
      "  warnings.warn(\n",
      "C:\\Users\\Lenovo\\anaconda3\\lib\\site-packages\\sklearn\\cluster\\_kmeans.py:870: FutureWarning: The default value of `n_init` will change from 10 to 'auto' in 1.4. Set the value of `n_init` explicitly to suppress the warning\n",
      "  warnings.warn(\n",
      "C:\\Users\\Lenovo\\anaconda3\\lib\\site-packages\\sklearn\\cluster\\_kmeans.py:870: FutureWarning: The default value of `n_init` will change from 10 to 'auto' in 1.4. Set the value of `n_init` explicitly to suppress the warning\n",
      "  warnings.warn(\n",
      "C:\\Users\\Lenovo\\anaconda3\\lib\\site-packages\\sklearn\\cluster\\_kmeans.py:870: FutureWarning: The default value of `n_init` will change from 10 to 'auto' in 1.4. Set the value of `n_init` explicitly to suppress the warning\n",
      "  warnings.warn(\n",
      "C:\\Users\\Lenovo\\anaconda3\\lib\\site-packages\\sklearn\\cluster\\_kmeans.py:870: FutureWarning: The default value of `n_init` will change from 10 to 'auto' in 1.4. Set the value of `n_init` explicitly to suppress the warning\n",
      "  warnings.warn(\n",
      "C:\\Users\\Lenovo\\anaconda3\\lib\\site-packages\\sklearn\\cluster\\_kmeans.py:870: FutureWarning: The default value of `n_init` will change from 10 to 'auto' in 1.4. Set the value of `n_init` explicitly to suppress the warning\n",
      "  warnings.warn(\n",
      "C:\\Users\\Lenovo\\anaconda3\\lib\\site-packages\\sklearn\\cluster\\_kmeans.py:870: FutureWarning: The default value of `n_init` will change from 10 to 'auto' in 1.4. Set the value of `n_init` explicitly to suppress the warning\n",
      "  warnings.warn(\n",
      "C:\\Users\\Lenovo\\anaconda3\\lib\\site-packages\\sklearn\\cluster\\_kmeans.py:870: FutureWarning: The default value of `n_init` will change from 10 to 'auto' in 1.4. Set the value of `n_init` explicitly to suppress the warning\n",
      "  warnings.warn(\n",
      "C:\\Users\\Lenovo\\anaconda3\\lib\\site-packages\\sklearn\\cluster\\_kmeans.py:870: FutureWarning: The default value of `n_init` will change from 10 to 'auto' in 1.4. Set the value of `n_init` explicitly to suppress the warning\n",
      "  warnings.warn(\n",
      "C:\\Users\\Lenovo\\anaconda3\\lib\\site-packages\\sklearn\\cluster\\_kmeans.py:870: FutureWarning: The default value of `n_init` will change from 10 to 'auto' in 1.4. Set the value of `n_init` explicitly to suppress the warning\n",
      "  warnings.warn(\n",
      "C:\\Users\\Lenovo\\anaconda3\\lib\\site-packages\\sklearn\\cluster\\_kmeans.py:870: FutureWarning: The default value of `n_init` will change from 10 to 'auto' in 1.4. Set the value of `n_init` explicitly to suppress the warning\n",
      "  warnings.warn(\n",
      "C:\\Users\\Lenovo\\anaconda3\\lib\\site-packages\\sklearn\\cluster\\_kmeans.py:870: FutureWarning: The default value of `n_init` will change from 10 to 'auto' in 1.4. Set the value of `n_init` explicitly to suppress the warning\n",
      "  warnings.warn(\n",
      "C:\\Users\\Lenovo\\anaconda3\\lib\\site-packages\\sklearn\\cluster\\_kmeans.py:870: FutureWarning: The default value of `n_init` will change from 10 to 'auto' in 1.4. Set the value of `n_init` explicitly to suppress the warning\n",
      "  warnings.warn(\n",
      "C:\\Users\\Lenovo\\anaconda3\\lib\\site-packages\\sklearn\\cluster\\_kmeans.py:870: FutureWarning: The default value of `n_init` will change from 10 to 'auto' in 1.4. Set the value of `n_init` explicitly to suppress the warning\n",
      "  warnings.warn(\n",
      "C:\\Users\\Lenovo\\anaconda3\\lib\\site-packages\\sklearn\\cluster\\_kmeans.py:870: FutureWarning: The default value of `n_init` will change from 10 to 'auto' in 1.4. Set the value of `n_init` explicitly to suppress the warning\n",
      "  warnings.warn(\n",
      "C:\\Users\\Lenovo\\anaconda3\\lib\\site-packages\\sklearn\\cluster\\_kmeans.py:870: FutureWarning: The default value of `n_init` will change from 10 to 'auto' in 1.4. Set the value of `n_init` explicitly to suppress the warning\n",
      "  warnings.warn(\n",
      "C:\\Users\\Lenovo\\anaconda3\\lib\\site-packages\\sklearn\\cluster\\_kmeans.py:870: FutureWarning: The default value of `n_init` will change from 10 to 'auto' in 1.4. Set the value of `n_init` explicitly to suppress the warning\n",
      "  warnings.warn(\n",
      "C:\\Users\\Lenovo\\anaconda3\\lib\\site-packages\\sklearn\\cluster\\_kmeans.py:870: FutureWarning: The default value of `n_init` will change from 10 to 'auto' in 1.4. Set the value of `n_init` explicitly to suppress the warning\n",
      "  warnings.warn(\n",
      "C:\\Users\\Lenovo\\anaconda3\\lib\\site-packages\\sklearn\\cluster\\_kmeans.py:870: FutureWarning: The default value of `n_init` will change from 10 to 'auto' in 1.4. Set the value of `n_init` explicitly to suppress the warning\n",
      "  warnings.warn(\n",
      "C:\\Users\\Lenovo\\anaconda3\\lib\\site-packages\\sklearn\\cluster\\_kmeans.py:870: FutureWarning: The default value of `n_init` will change from 10 to 'auto' in 1.4. Set the value of `n_init` explicitly to suppress the warning\n",
      "  warnings.warn(\n",
      "C:\\Users\\Lenovo\\anaconda3\\lib\\site-packages\\sklearn\\cluster\\_kmeans.py:870: FutureWarning: The default value of `n_init` will change from 10 to 'auto' in 1.4. Set the value of `n_init` explicitly to suppress the warning\n",
      "  warnings.warn(\n",
      "C:\\Users\\Lenovo\\anaconda3\\lib\\site-packages\\sklearn\\cluster\\_kmeans.py:870: FutureWarning: The default value of `n_init` will change from 10 to 'auto' in 1.4. Set the value of `n_init` explicitly to suppress the warning\n",
      "  warnings.warn(\n",
      "C:\\Users\\Lenovo\\anaconda3\\lib\\site-packages\\sklearn\\cluster\\_kmeans.py:870: FutureWarning: The default value of `n_init` will change from 10 to 'auto' in 1.4. Set the value of `n_init` explicitly to suppress the warning\n",
      "  warnings.warn(\n",
      "C:\\Users\\Lenovo\\anaconda3\\lib\\site-packages\\sklearn\\cluster\\_kmeans.py:870: FutureWarning: The default value of `n_init` will change from 10 to 'auto' in 1.4. Set the value of `n_init` explicitly to suppress the warning\n",
      "  warnings.warn(\n"
     ]
    }
   ],
   "source": [
    "Sum_of_squared_distances = []\n",
    "K = range(1,26)\n",
    "for k in K:\n",
    "    km = KMeans(n_clusters=k)\n",
    "    km = km.fit(scaled_metrics)\n",
    "    Sum_of_squared_distances.append(km.inertia_)"
   ]
  },
  {
   "cell_type": "code",
   "execution_count": null,
   "id": "08f1e312",
   "metadata": {},
   "outputs": [
    {
     "data": {
      "text/plain": [
       "[12282.170960991505,\n",
       " 2637.0869182880897,\n",
       " 1113.8435512474744,\n",
       " 628.0143677773857,\n",
       " 362.63357806185775,\n",
       " 242.7335619482929,\n",
       " 175.83988481410225,\n",
       " 131.50884976162772,\n",
       " 96.2202624895819,\n",
       " 79.8821074994983,\n",
       " 61.534458172302706,\n",
       " 51.006075550317306,\n",
       " 47.10781564684173,\n",
       " 43.07749528593731,\n",
       " 32.55944771829251,\n",
       " 27.67118865890476,\n",
       " 23.763712736720638,\n",
       " 19.7318791296949,\n",
       " 16.740593936123858,\n",
       " 13.361552477760615,\n",
       " 10.285131172962451,\n",
       " 7.303158037197288,\n",
       " 4.595671091147482,\n",
       " 2.142927702989566,\n",
       " 0.14612959893568261]"
      ]
     },
     "execution_count": 56,
     "metadata": {},
     "output_type": "execute_result"
    }
   ],
   "source": [
    "Sum_of_squared_distances"
   ]
  },
  {
   "cell_type": "code",
   "execution_count": null,
   "id": "b76af21a",
   "metadata": {},
   "outputs": [
    {
     "data": {
      "image/png": "[encoded data removed]",
      "text/plain": [
       "<Figure size 1500x1000 with 1 Axes>"
      ]
     },
     "metadata": {},
     "output_type": "display_data"
    }
   ],
   "source": [
    "plt.subplots(figsize=(15, 10))\n",
    "plt.plot(K, Sum_of_squared_distances, 'bx-')\n",
    "plt.xlabel('k', fontsize=15)\n",
    "plt.ylabel('Sum_of_squared_distances', fontsize=15)\n",
    "plt.title('Elbow Method For Optimal k', fontsize=20)\n",
    "plt.show()"
   ]
  },
  {
   "cell_type": "markdown",
   "id": "10ed933e",
   "metadata": {},
   "source": [
    "**In the plot above the elbow is at k=3 indicating the optimal k for this dataset is 3**"
   ]
  },
  {
   "cell_type": "code",
   "execution_count": null,
   "id": "8806316f",
   "metadata": {},
   "outputs": [],
   "source": []
  }
 ],
 "metadata": {
  "kernelspec": {
   "display_name": "Python 3 (ipykernel)",
   "language": "python",
   "name": "python3"
  },
  "language_info": {
   "codemirror_mode": {
    "name": "ipython",
    "version": 3
   },
   "file_extension": ".py",
   "mimetype": "text/x-python",
   "name": "python",
   "nbconvert_exporter": "python",
   "pygments_lexer": "ipython3",
   "version": "3.12.2"
  }
 },
 "nbformat": 4,
 "nbformat_minor": 5
}
